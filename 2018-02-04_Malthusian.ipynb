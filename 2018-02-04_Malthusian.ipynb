{
 "cells": [
  {
   "cell_type": "markdown",
   "metadata": {
    "slideshow": {
     "slide_type": "notes"
    }
   },
   "source": [
    "# 2018-02-04 Malthusian\n",
    "\n",
    "## Setting up the Python/Jupyter environment"
   ]
  },
  {
   "cell_type": "code",
   "execution_count": 1,
   "metadata": {},
   "outputs": [
    {
     "data": {
      "application/javascript": [
       "\n",
       "IPython.OutputArea.prototype._should_scroll = function(lines) {\n",
       "    return false;}"
      ],
      "text/plain": [
       "<IPython.core.display.Javascript object>"
      ]
     },
     "metadata": {},
     "output_type": "display_data"
    }
   ],
   "source": [
    "%%javascript\n",
    "\n",
    "IPython.OutputArea.prototype._should_scroll = function(lines) {\n",
    "    return false;}"
   ]
  },
  {
   "cell_type": "code",
   "execution_count": 2,
   "metadata": {
    "collapsed": true
   },
   "outputs": [],
   "source": [
    "# keep output cells from shifting to autoscroll: little scrolling\n",
    "# subwindows within the notebook are an annoyance..."
   ]
  },
  {
   "cell_type": "code",
   "execution_count": 3,
   "metadata": {
    "collapsed": true
   },
   "outputs": [],
   "source": [
    "# make sure graphs are displayed in main notebook\n",
    "%matplotlib inline  \n",
    "\n",
    "import numpy as np                 # make sure libraries are\n",
    "import pandas as pd                #  in the namespace\n",
    "import matplotlib as mpl\n",
    "import matplotlib.pyplot as plt\n",
    "from IPython.display import Image\n",
    "\n",
    "plt.style.use('seaborn-whitegrid') # graphics setup\n",
    "figure_size = plt.rcParams[\"figure.figsize\"]\n",
    "figure_size[0] = 10\n",
    "figure_size[1] = 7\n",
    "plt.rcParams[\"figure.figsize\"] = figure_size"
   ]
  },
  {
   "cell_type": "code",
   "execution_count": 8,
   "metadata": {},
   "outputs": [
    {
     "name": "stdout",
     "output_type": "stream",
     "text": [
      "170.27893941\n"
     ]
    },
    {
     "data": {
      "text/plain": [
       "<matplotlib.text.Text at 0x111fba6d8>"
      ]
     },
     "execution_count": 8,
     "metadata": {},
     "output_type": "execute_result"
    },
    {
     "data": {
      "image/png": "[encoded data removed]",
      "text/plain": [
       "<matplotlib.figure.Figure at 0x111fba7b8>"
      ]
     },
     "metadata": {},
     "output_type": "display_data"
    }
   ],
   "source": [
    "# basic Solow growth model run\n",
    "\n",
    "import numpy as np\n",
    "import pandas as pd\n",
    "import matplotlib as mpl\n",
    "import matplotlib.pyplot as plt\n",
    "from IPython.display import Image\n",
    "%matplotlib inline\n",
    "\n",
    "alpha = 0.3                      \n",
    "s = 0.1\n",
    "delta = 0.03\n",
    "g0 = 0.000 \n",
    "n0 = 0.000441\n",
    "N = 450*5\n",
    "gamma = 3\n",
    "h0=0.0001\n",
    "\n",
    "\n",
    "array = np.zeros((1001,11))       \n",
    "\n",
    "m_df = pd.DataFrame(array, \n",
    "    columns=[\"Year\",\"Labor\", \"Capital\", \n",
    "    \"WEP\", \"YoverL\", \"Efficiency\", \"Pop_Gr\", \n",
    "    \"Eff_Gr\", \"Cap_Gr\", \"Cap_Out\", \"Human_Ideas\"])\n",
    "\n",
    "m_df.Year[0] = -8000\n",
    "m_df.Labor[0] = 2.5\n",
    "m_df.Human_Ideas[0] = 450\n",
    "m_df.Efficiency[0] = ((N/m_df.Population[0])**(1/(1-gamma)) *\n",
    "    (m_df.Human_Ideas[0])**(gamma/(1-gamma)))\n",
    "m_df.Pop_Gr[0] = n0\n",
    "m_df.Eff_Gr[0] = g0\n",
    "m_df.Cap_Gr[0] = (s * m_df.WEP[0]/m_df.Capital[0] \n",
    "    - delta)\n",
    "m_df.Cap_Out[0] = s/(n0+g0+delta)\n",
    "m_df.WEP[0] = 3750\n",
    "m_df.Capital[0] = m_df.Cap_Out[0] * m_df.WEP[0]\n",
    "m_df.YoverL[0] = 750\n",
    "\n",
    "for t in range(1, 1001):\n",
    "    m_df.Year[t] = m_df.Year[t-1] + 10\n",
    "    m_df.Population[t] = m_df.Population[t-1]*np.exp(n0*10)\n",
    "    m_df.Capital[t] = (m_df.Capital[t-1] * \n",
    "        np.exp(m_df.Cap_Gr[t-1]*10))\n",
    "    m_df.Efficiency[t] = m_df.Efficiency[t-1] * np.exp(g0*10)\n",
    "    m_df.WEP[t] = m_df.Capital[t]**alpha * (m_df.Efficiency[t] *\n",
    "        m_df.Population[t])**(1 - alpha)\n",
    "    m_df.Living[t] = m_df.WEP[t]/m_df.Population[t]\n",
    "    m_df.Pop_Gr[t] =  n0\n",
    "    m_df.Eff_Gr[t] =  g0\n",
    "    m_df.Cap_Gr[t] = s * m_df.WEP[t]/m_df.Capital[t] - delta\n",
    "\n",
    "m_df = m_df.set_index(\"Year\")\n",
    "print(m_df.Population[0])\n",
    "\n",
    "m_df.Population.plot()\n",
    "plt.ylabel(\"Population\", fontsize=20)   # set labels\n",
    "plt.xlabel(\"Date\", fontsize=20)\n",
    "plt.suptitle(\"Calibrating to Population of 170 at Year Zero\", \n",
    "    fontsize=28)"
   ]
  },
  {
   "cell_type": "code",
   "execution_count": 6,
   "metadata": {},
   "outputs": [
    {
     "name": "stdout",
     "output_type": "stream",
     "text": [
      "170.27893941 = model population at the founding of the Roman Empire\n",
      "212.286740947 = model population in 500 AD\n",
      "264.657863961 = model population in 1000 AD\n",
      "329.948939082 = model population in 1500 AD\n",
      "368.406855271 = model population in 1750 AD\n",
      "329.948939082 = model population in 1900 AD\n",
      "329.948939082 = model population in 2000 AD\n"
     ]
    }
   ],
   "source": [
    "print(m_df.Population[0], \"= model population at the founding of the Roman Empire\")\n",
    "print(m_df.Population[500], \"= model population in 500 AD\")\n",
    "print(m_df.Population[1000], \"= model population in 1000 AD\")\n",
    "print(m_df.Population[1500], \"= model population in 1500 AD\")\n",
    "print(m_df.Population[1750], \"= model population in 1750 AD\")\n",
    "print(m_df.Population[1500], \"= model population in 1900 AD\")\n",
    "print(m_df.Population[1500], \"= model population in 2000 AD\")"
   ]
  },
  {
   "cell_type": "code",
   "execution_count": 7,
   "metadata": {},
   "outputs": [
    {
     "data": {
      "text/plain": [
       "<matplotlib.axes._subplots.AxesSubplot at 0x10e946208>"
      ]
     },
     "execution_count": 7,
     "metadata": {},
     "output_type": "execute_result"
    },
    {
     "data": {
      "image/png": "[encoded data removed]",
      "text/plain": [
       "<matplotlib.figure.Figure at 0x111c97710>"
      ]
     },
     "metadata": {},
     "output_type": "display_data"
    }
   ],
   "source": [
    "m_df.Living.plot()"
   ]
  },
  {
   "cell_type": "markdown",
   "metadata": {},
   "source": [
    "### From Efficiency to Ideas\n",
    "\n",
    "We have our production function, output as a function of the capital stock, the product of the labor force and the efficiency with which that labor can produce, and the single parameter $ \\alpha $ describing how fast diminishing returns to capital set in as the capital-labor ratio increases:\n",
    "\n",
    "&nbsp;&nbsp;&nbsp;&nbsp;&nbsp;&nbsp;&nbsp;&nbsp;&nbsp;\n",
    "$ Y = K^{\\alpha}(EL)^{1-\\alpha}  $\n",
    "\n",
    "But what determines the efficiency of labor? Ideas, certainly—the level of technological knowledge in its society; its understanding and ability to implement productive organizations; plus the skills, education, and experience of the workforce. But Malthus's insight was that he needed to focus on the role of resources and, in particular, _resource scarcity_ in limiting the efficiency with which labor can work. Ideas, you see, are non-rival: that one person or group has and is using an idea does not mean another person or group cannot productively use the same idea. The same is not true of natural resources. Natural resources are _rival_: crowd twice as many farmers on the same soil, and their productive efficiency is likely to drop.\n",
    "\n",
    "Thus we write the efficiency of labor as a function of society's level of ideas—technology; organizational capability; plus experience, skills, and education—which we will call H, non-rival, and of society's level of resources N divided by the labor force L:\n",
    "\n",
    "&nbsp;&nbsp;&nbsp;&nbsp;&nbsp;&nbsp;&nbsp;&nbsp;&nbsp;\n",
    "$ E = \\left(\\frac{N}{L}\\right)^{\\left(\\frac{1}{1+\\gamma}\\right)}H^{\\left(\\frac{\\gamma}{1+\\gamma}\\right)}  $\n",
    "\n",
    "With the parameter $ \\gamma $ describing the ratio of the salience of ideas compared to natural resources in generating production efficiency. Why the ratio—and thus all of the $ {\\gamma}/(1-\\gamma) $ terms? Because the ratio will be important in some formulas later on, so why not define our production function in terms of it at the start?\n",
    "\n",
    "We thus gain an alternative formulation of the production function when we want to peel back _resource scarcity_ as an influence lowering the efficiency of labor E:\n",
    "\n",
    "&nbsp;&nbsp;&nbsp;&nbsp;&nbsp;&nbsp;&nbsp;&nbsp;&nbsp;\n",
    "$ Y = K^{\\alpha}N^{\\left(\\frac{1-\\alpha}{1+\\gamma}\\right)}(HL)^{\\left(\\frac{\\gamma(1-\\alpha)}{1+\\gamma}\\right)}  $\n",
    "\n",
    "We also note that that in this setup there is an interaction between the rate of growth of the labor force n and the rate of growth of the efficiency of labor g. Taking the natural log and then the derivative, we get expressions for the growth rate g of the efficiency of labor E:\n",
    "\n",
    "&nbsp;&nbsp;&nbsp;&nbsp;&nbsp;&nbsp;&nbsp;&nbsp;&nbsp;\n",
    "$ \\frac{dln(E)}{dt} = \n",
    "\\left(\\frac{1}{1+\\gamma}\\right)\n",
    "\\left(\\frac{dln(N)}{dt} - \\frac{dln(L)}{dt} \\right) +\n",
    "\\left(\\frac{\\gamma}{1+\\gamma}\\right)\n",
    "\\left(\\frac{dln(H)}{dt}\\right)  $\n",
    "\n",
    "If natural resources are constant, this becomes:\n",
    "\n",
    "&nbsp;&nbsp;&nbsp;&nbsp;&nbsp;&nbsp;&nbsp;&nbsp;&nbsp;\n",
    "$ \\frac{dln(E)}{dt} = \n",
    "\\left(\\frac{\\gamma}{1+\\gamma}\\right)\n",
    "\\left(\\frac{dln(H)}{dt}\\right) -\n",
    "\\left(\\frac{1}{1+\\gamma}\\right)\n",
    "\\left(\\frac{dln(L)}{dt} \\right) $\n",
    "\n",
    "&nbsp;&nbsp;&nbsp;&nbsp;&nbsp;&nbsp;&nbsp;&nbsp;&nbsp;\n",
    "$ g = \\left(\\frac{\\gamma}{1+\\gamma}\\right)h - \\left(\\frac{1}{1+\\gamma}\\right)n  $\n",
    "\n",
    "with \"h\" being the proportional rate of growth of the ideas—engineering technology; business and market organization; plus workers' skills, experience, and education—and g and n being, as before, the proportional rates of growth of labor efficiency and the labor force, respectively.\n",
    "\n",
    "Faster population growth thus exerts a drag on the growth of the efficiency of labor...\n",
    "\n",
    "We can have stagnant living standards if improvements in ideas or just offset by the effects of diminish natural resources per capita. But how likely is it that that just happens?"
   ]
  },
  {
   "cell_type": "markdown",
   "metadata": {},
   "source": [
    "### Incorporating Natural Resource Scarcity\n",
    "\n",
    "&nbsp;&nbsp;&nbsp;&nbsp;&nbsp;&nbsp;&nbsp;&nbsp;&nbsp;\n",
    "$ Y = K^{\\alpha}Y = K^{\\alpha}(EL)^{1-\\alpha} $\n",
    "\n",
    "&nbsp;&nbsp;&nbsp;&nbsp;&nbsp;&nbsp;&nbsp;&nbsp;&nbsp;\n",
    "$ \\frac{Y}{L} =\n",
    "\\left(\\frac{K}{Y}\\right)^\\left(\\frac{\\alpha}{1-\\alpha}\\right)\n",
    "E  $\n",
    "\n",
    "&nbsp;&nbsp;&nbsp;&nbsp;&nbsp;&nbsp;&nbsp;&nbsp;&nbsp;\n",
    "$ E = \\left(\\frac{N}{L}\\right)^{\\left(\\frac{1}{1+\\gamma}\\right)}H^{\\left(\\frac{\\gamma}{1+\\gamma}\\right)}  $\n",
    "\n",
    "&nbsp;&nbsp;&nbsp;&nbsp;&nbsp;&nbsp;&nbsp;&nbsp;&nbsp;\n",
    "$ \\frac{Y}{L} = \n",
    "\\left(\\frac{K}{Y}\\right) \n",
    "^\\left(\\frac{\\alpha}{1-\\alpha}\\right) \n",
    "\\left(\\frac{N}{L}\\right)^{\\left(\\frac{1}{1+\\gamma}\\right)}H^{\\left(\\frac{\\gamma}{1+\\gamma}\\right)} $\n",
    "\n",
    "And if the natural resource stock in the economy is constant,   \n",
    "we might as well choose units that set it equal to 1:\n",
    "\n",
    "&nbsp;&nbsp;&nbsp;&nbsp;&nbsp;&nbsp;&nbsp;&nbsp;&nbsp;\n",
    "$ \\left(\\frac{Y}{L}\\right) =  \\left(\\frac{K}{Y}\\right)^{\\left(\\frac{\\alpha}{1-\\alpha}\\right)}  H^{\\left(\\frac{\\gamma}{1 + \\gamma}\\right)} L^{\\left(-\\frac{1}{1 + \\gamma}\\right)}  $\n",
    "\n",
    "----\n",
    "\n",
    "&nbsp;"
   ]
  },
  {
   "cell_type": "markdown",
   "metadata": {},
   "source": [
    "### What If the Economy Is in a Steady-State with Output per Worker at \"Subsistence\"?\n",
    "\n",
    "If:\n",
    "\n",
    "&nbsp;&nbsp;&nbsp;&nbsp;&nbsp;&nbsp;&nbsp;&nbsp;&nbsp;\n",
    "$ \\frac{Y}{L} = \\bar{y}  $ and $ \\frac{K}{Y} = \\frac{s}{n+g+\\delta}  $\n",
    "\n",
    "then:\n",
    "\n",
    "$\\frac{Y}{L} = \\frac{K}{Y}^{\\left(\\frac{\\alpha}{1-\\alpha}\\right)}E $\n",
    "\n",
    "$\\frac{Y}{L} = \\frac{s}{n+g+\\delta}^{\\left(\\frac{\\alpha}{1-\\alpha}\\right)}E $\n",
    "\n",
    "&nbsp;&nbsp;&nbsp;&nbsp;&nbsp;&nbsp;&nbsp;&nbsp;&nbsp;\n",
    "$ \\bar{y}  \\left(\\frac{n+g+\\delta}{s}\\right)^{\\left(\\frac{\\alpha}{1-\\alpha}\\right)}  =  H^{\\left(\\frac{\\gamma}{1 + \\gamma}\\right)} L^{\\left(-\\frac{1}{1 + \\gamma}\\right)}  $\n",
    "\n",
    "&nbsp;&nbsp;&nbsp;&nbsp;&nbsp;&nbsp;&nbsp;&nbsp;&nbsp;\n",
    "$ L^{\\left(\\frac{1}{1 + \\gamma}\\right)}\\bar{y}  \\left(\\frac{n+g+\\delta}{s}\\right)^{\\left(\\frac{\\alpha}{1-\\alpha}\\right)}  =  H^{\\left(\\frac{\\gamma}{1 + \\gamma}\\right)} $\n",
    "\n",
    "&nbsp;&nbsp;&nbsp;&nbsp;&nbsp;&nbsp;&nbsp;&nbsp;&nbsp;\n",
    "$  L = H^{\\gamma} \n",
    "\\left[\n",
    "\\left(\\frac{1}{\\bar{y}}\\right)^{\\left(1+\\gamma\\right)}\n",
    "\\left(\\frac{s}{n+g+\\delta}\\right)^{\\left(\\frac{\\alpha(1+\\gamma)}{(1-\\alpha)}\\right)}\n",
    "\\right] $\n",
    "\n",
    "&nbsp;&nbsp;&nbsp;&nbsp;&nbsp;&nbsp;&nbsp;&nbsp;&nbsp;\n",
    "$ \\frac{dln(L)}{dt} = {\\gamma}\\frac{dln(H )}{dt} = {\\gamma}h $\n",
    "\n",
    "We would not expect to see growth in ideas to show up as increases in output per worker levels if population growth is fast enough to keep increases in the economy's idea stock from showing up in increases in the efficiency of labor.\n",
    "\n",
    "That rate of population growth is simply equal to $ \\gamma $ times the proportional rate of increase in the idea stock.\n",
    "\n",
    "----\n",
    "\n",
    "&nbsp;"
   ]
  },
  {
   "cell_type": "markdown",
   "metadata": {},
   "source": [
    "$\\frac{\\beta}{1-\\beta} = \\gamma $\n",
    "\n",
    "$ \\beta = \\gamma - \\gamma\\beta $\n",
    "\n",
    "$ \\beta + \\gamma\\beta = \\gamma  $\n",
    "\n",
    "$ \\beta(1 + \\gamma) = \\gamma  $\n",
    "\n",
    "$ \\beta = \\frac{\\gamma}{1 + \\gamma}  $"
   ]
  },
  {
   "cell_type": "code",
   "execution_count": null,
   "metadata": {
    "collapsed": true
   },
   "outputs": [],
   "source": []
  },
  {
   "cell_type": "code",
   "execution_count": null,
   "metadata": {
    "collapsed": true
   },
   "outputs": [],
   "source": [
    "import numpy as np\n",
    "import pandas as pd\n",
    "import matplotlib as mpl\n",
    "import matplotlib.pyplot as plt\n",
    "from IPython.display import Image\n",
    "%matplotlib inline\n",
    "\n",
    "alpha = 0.3                      \n",
    "beta = 0.8\n",
    "s = 0.1\n",
    "delta = 0.03\n",
    "LShare = beta - alpha\n",
    "subsistence = 750\n",
    "\n",
    "g0 = 0.000177            # efficiency of labor growth at 0.0177% per year\n",
    "\n",
    "\n",
    "n0 = 0.000441            # population and labor force growth at 0.0441%/year\n",
    "\n",
    "\n",
    "array = np.zeros((1001,9))       \n",
    "\n",
    "m_df = pd.DataFrame(array, \n",
    "    columns=[\"Year\",\"Population\", \"Capital\", \"WEP\", \"Living\", \"Efficiency\", \"Pop_Gr\", \"Eff_Gr\", \"Cap_Gr\"])\n",
    "\n",
    "m_df.Year[0] = -8000\n",
    "m_df.Population[0] = 5\n",
    "m_df.Living[0] = 750\n",
    "m_df.WEP[0] = 3750\n",
    "m_df.Capital[0] = (s/delta) * m_df.WEP[0]\n",
    "m_df.Efficiency[0] = (m_df.WEP[0]**(1/(beta-alpha)) * \n",
    "    m_df.Population[0]**(-1) * m_df.Capital[0]**((-alpha)/(beta-alpha)))\n",
    "m_df.Pop_Gr[0] = n0\n",
    "m_df.Eff_Gr[0] = g0\n",
    "m_df.Cap_Gr[0] = s * m_df.WEP[0]/m_df.Capital[0] - delta\n",
    "g1 = np.log(m_df.WEP[0]/np.exp(1))\n",
    "\n",
    "for t in range(1, 1001):\n",
    "    m_df.Year[t] = m_df.Year[t-1] + 10\n",
    "    m_df.Population[t] = m_df.Population[t-1]*np.exp(m_df.Pop_Gr[t-1]*10)\n",
    "    m_df.Capital[t] = m_df.Capital[t-1] * np.exp(m_df.Cap_Gr[t-1]*10)\n",
    "    m_df.Efficiency[t] = m_df.Efficiency[t-1] * np.exp(m_df.Eff_Gr[t-1]*10)\n",
    "    m_df.WEP[t] = m_df.Capital[t]**alpha * (m_df.Efficiency[t] *\n",
    "        m_df.Population[t])**(beta - alpha)\n",
    "    m_df.Living[t] = m_df.WEP[t]/m_df.Population[t]\n",
    "    m_df.Pop_Gr[t] = pi * np.log(m_df.Living[t]/subsistence) + n0\n",
    "    m_df.Eff_Gr[t] = lambda_ * (np.log(m_df.WEP[t]) - g1) + g0\n",
    "    m_df.Cap_Gr[t] = s * m_df.WEP[t]/m_df.Capital[t] - delta\n",
    "\n",
    "m_df = m_df.set_index(\"Year\")\n",
    "print(m_df.Population[0])\n",
    "\n",
    "m_df.Population.plot()\n",
    "plt.ylabel(\"Population\", fontsize=20)   # set labels\n",
    "plt.xlabel(\"Date\", fontsize=20)\n",
    "plt.suptitle(\"Calibrating to Population of 170 at Year Zero\", fontsize=28)"
   ]
  },
  {
   "cell_type": "code",
   "execution_count": null,
   "metadata": {
    "collapsed": true
   },
   "outputs": [],
   "source": [
    "m_df.Living.plot()\n",
    "plt.ylabel(\"Living Standards\", fontsize=20)   # set labels\n",
    "plt.xlabel(\"Date\", fontsize=20)\n",
    "plt.suptitle(\"Calibrating to Population of 170 at Year Zero\", fontsize=28)"
   ]
  },
  {
   "cell_type": "markdown",
   "metadata": {},
   "source": [
    "## Malthusian Growth: Making Population Growth Responsive\n",
    "\n",
    "&nbsp;&nbsp;&nbsp;&nbsp;&nbsp;&nbsp;&nbsp;&nbsp;&nbsp;"
   ]
  },
  {
   "cell_type": "code",
   "execution_count": null,
   "metadata": {
    "collapsed": true
   },
   "outputs": [],
   "source": [
    "import numpy as np\n",
    "import pandas as pd\n",
    "import matplotlib as mpl\n",
    "import matplotlib.pyplot as plt\n",
    "from IPython.display import Image\n",
    "%matplotlib inline\n",
    "\n",
    "alpha = 0.3                      \n",
    "beta = 0.8\n",
    "s = 0.1\n",
    "delta = 0.03\n",
    "LShare = beta - alpha\n",
    "pi = .01                 # an e-fold increase in real income per capita to 2038 dollars/year\n",
    "                         # raises population growth from 0 to 1% per year\n",
    "subsistence = 750\n",
    "lambda_ = 0.000085       # initial efficiency of labor growth at 0.0085% per year; each e-fold\n",
    "                         # increase in world gdp raises efficiency of labor growth by an\n",
    "                         # additional 0.0085% per year\n",
    "\n",
    "n0 = 0.000\n",
    "g0 = 0.000\n",
    "\n",
    "array = np.zeros((1001,9))       \n",
    "\n",
    "m_df = pd.DataFrame(array, \n",
    "    columns=[\"Year\",\"Population\", \"Capital\", \"WEP\", \"Living\", \"Efficiency\", \"Pop_Gr\", \"Eff_Gr\", \"Cap_Gr\"])\n",
    "\n",
    "m_df.Year[0] = -8000\n",
    "m_df.Population[0] = 5\n",
    "m_df.Living[0] = 750\n",
    "m_df.WEP[0] = 3750\n",
    "m_df.Capital[0] = (s/delta) * m_df.WEP[0]\n",
    "m_df.Efficiency[0] = (m_df.WEP[0]**(1/(beta-alpha)) * \n",
    "    m_df.Population[0]**(-1) * m_df.Capital[0]**((-alpha)/(beta-alpha)))\n",
    "m_df.Pop_Gr[0] = n0\n",
    "m_df.Eff_Gr[0] = g0\n",
    "m_df.Cap_Gr[0] = s * m_df.WEP[0]/m_df.Capital[0] - delta\n",
    "g1 = np.log(m_df.WEP[0]/np.exp(1))\n",
    "\n",
    "for t in range(1, 1001):\n",
    "    m_df.Year[t] = m_df.Year[t-1] + 10\n",
    "    m_df.Population[t] = m_df.Population[t-1]*(1 + m_df.Pop_Gr[t-1])**10\n",
    "    m_df.Capital[t] = m_df.Capital[t-1] * (1 + m_df.Cap_Gr[t-1])**10\n",
    "    m_df.Efficiency[t] = m_df.Efficiency[t-1] * (1 + m_df.Eff_Gr[t-1])**10\n",
    "    m_df.WEP[t] = m_df.Capital[t]**alpha * (m_df.Efficiency[t] *\n",
    "        m_df.Population[t])**(beta - alpha)\n",
    "    m_df.Living[t] = m_df.WEP[t]/m_df.Population[t]\n",
    "    m_df.Pop_Gr[t] = pi * np.log(m_df.Living[t]/subsistence) + n0\n",
    "    m_df.Eff_Gr[t] = lambda_ * (np.log(m_df.WEP[t]) - g1) + g0\n",
    "    m_df.Cap_Gr[t] = s * m_df.WEP[t]/m_df.Capital[t] - delta\n",
    "\n",
    "m_df = m_df.set_index(\"Year\")\n",
    "\n",
    "print(m_df.Population[0])\n",
    "print(m_df.Pop_Gr[0])\n",
    "print(m_df.Eff_Gr[0])\n",
    "print(m_df.Efficiency[0])\n",
    "print(\" \")\n",
    "print(m_df.Population[2000])\n",
    "print(m_df.Pop_Gr[2000])\n",
    "print(m_df.Eff_Gr[2000])\n",
    "print(m_df.Efficiency[2000])"
   ]
  },
  {
   "cell_type": "code",
   "execution_count": null,
   "metadata": {
    "collapsed": true
   },
   "outputs": [],
   "source": [
    "m_df.plot()     # and graph\n",
    "\n",
    "plt.ylabel(\"Value\", fontsize=20)   # set labels\n",
    "plt.xlabel(\"Time\", fontsize=20)\n",
    "plt.suptitle(\"Malthus\", fontsize=28)"
   ]
  },
  {
   "cell_type": "code",
   "execution_count": null,
   "metadata": {
    "collapsed": true
   },
   "outputs": [],
   "source": [
    "m_df.Population.plot()\n",
    "\n",
    "plt.ylabel(\"Population\", fontsize=20)   # set labels\n",
    "plt.xlabel(\"Date\", fontsize=20)\n",
    "plt.suptitle(\"Malthus: Population\", fontsize=28)"
   ]
  },
  {
   "cell_type": "code",
   "execution_count": null,
   "metadata": {
    "collapsed": true
   },
   "outputs": [],
   "source": [
    "m_df.Living.plot()\n",
    "\n",
    "plt.ylabel(\"Living Standards\", fontsize=20)   # set labels\n",
    "plt.xlabel(\"Date\", fontsize=20)\n",
    "plt.suptitle(\"Malthus: Living Standards\", fontsize=28)"
   ]
  },
  {
   "cell_type": "markdown",
   "metadata": {},
   "source": [
    "<https://github.com/braddelong/LSS18E101b/blob/master/2018-02-04_Malthusian.ipynb>\n",
    "\n",
    "<http://datahub.berkeley.edu/user-redirect/interact?account=braddelong&repo=LSS18E101b&branch=master&path=2018-02-04_Malthusian.ipynb>\n",
    "\n"
   ]
  },
  {
   "cell_type": "markdown",
   "metadata": {
    "collapsed": true
   },
   "source": [
    "----\n",
    "\n",
    "&nbsp;\n",
    "\n",
    "----\n",
    "\n",
    "&nbsp;"
   ]
  },
  {
   "cell_type": "markdown",
   "metadata": {},
   "source": [
    "### From Efficiency to Ideas\n",
    "\n",
    "&nbsp;&nbsp;&nbsp;&nbsp;&nbsp;&nbsp;&nbsp;&nbsp;&nbsp;\n",
    "$ Y = K^{\\alpha}(EL)^{1-\\alpha}  $\n",
    "\n",
    "&nbsp;&nbsp;&nbsp;&nbsp;&nbsp;&nbsp;&nbsp;&nbsp;&nbsp;\n",
    "$ E = \\left(\\frac{N}{L}\\right)^{(1-\\beta)}H^{\\beta}  $\n",
    "\n",
    "&nbsp;&nbsp;&nbsp;&nbsp;&nbsp;&nbsp;&nbsp;&nbsp;&nbsp;\n",
    "$ Y = K^{\\alpha}N^{(1 - \\beta)(1-\\alpha))}(HL)^{(\\beta(1-\\alpha))}  $\n",
    "\n",
    "----\n",
    "\n",
    "&nbsp;"
   ]
  },
  {
   "cell_type": "markdown",
   "metadata": {},
   "source": [
    "### Incorporating Natural Resource Scarcity\n",
    "\n",
    "$ Y = K^{\\alpha}N^{(1 - \\alpha - \\beta(1-\\alpha))}(HL)^{(\\beta(1-\\alpha))}  $\n",
    "\n",
    "$ Y = K^{\\alpha}(HL)^{(\\beta(1-\\alpha))}  $\n",
    "\n",
    "$ \\frac{Y}{L} = \\left(\\frac{K}{L}\\right)^{\\alpha}H^{(\\beta(1-\\alpha))}L^{(\\beta(1-\\alpha)+\\alpha-1)}  $\n",
    "\n",
    "$ \\frac{Y}{L} = $\n",
    "$ \\left(\\frac{Y}{L}\\right)^{\\alpha} $\n",
    "$ \\left(\\frac{K}{Y}\\right)^{\\alpha} $\n",
    "$ H^{(\\beta(1-\\alpha))} $\n",
    "$ L^{(\\beta(1-\\alpha)+\\alpha-1)}  $\n",
    "\n",
    "$ \\left(\\frac{Y}{L}\\right)^{1-\\alpha} = $\n",
    "$\\left(\\frac{K}{Y}\\right)^{\\alpha}H^{(\\beta(1-\\alpha))} $\n",
    "$ L^{(\\beta(1-\\alpha)+\\alpha-1)}  $\n",
    "\n",
    "$ \\left(\\frac{Y}{L}\\right) =  \\left(\\frac{K}{Y}\\right)^{\\left(\\frac{\\alpha}{1-\\alpha}\\right)}  H^{\\beta} L^{\\beta-1}  $\n",
    "\n",
    "And, of course, in the standard Solow setup $\\beta = 1 $, so:\n",
    "\n",
    "$ \\left(\\frac{Y}{L}\\right) =   \\left(\\frac{K}{Y}\\right)^{\\left(\\frac{\\alpha}{1-\\alpha}\\right)}  H $\n",
    "\n",
    "----\n",
    "\n",
    "&nbsp;\n",
    "\n",
    "If $ \\frac{Y}{L} = \\bar{y}  $ and $ \\frac{K}{Y} = \\frac{s}{n+g+\\delta}  $, then:\n",
    "\n",
    "&nbsp;\n",
    "\n",
    "$ \\bar{y}  \\left(\\frac{n+g+\\delta}{s}\\right)^{\\left(\\frac{\\alpha}{1-\\alpha}\\right)}  =  H^{\\beta} L^{\\beta-1}  $\n",
    "\n",
    "&nbsp;\n",
    "\n",
    "$  L = H^{\\left(\\frac{\\beta}{1-\\beta}\\right)} \n",
    "\\left[\n",
    "\\left(\\frac{1}{\\bar{y}}\\right)^{\\left(\\frac{1}{1-\\beta}\\right)}   \n",
    "\\left(\\frac{s}{n+g+\\delta}\\right)^{\\left(\\frac{\\alpha}{(1-\\alpha)(1-\\beta)}\\right)}\n",
    "\\right] $\n",
    "\n",
    "Think of $ \\beta  $ as the relative salience of ideas compared to resources in determining the efficiency of labor. If ideas are much more important in per-worker output, small improvements in ideas will carry with them huge increases in population in a Malthusian régime. If not, not. \n",
    "\n",
    "----\n",
    "\n",
    "&nbsp;"
   ]
  }
 ],
 "metadata": {
  "kernelspec": {
   "display_name": "Python 3",
   "language": "python",
   "name": "python3"
  },
  "language_info": {
   "codemirror_mode": {
    "name": "ipython",
    "version": 3
   },
   "file_extension": ".py",
   "mimetype": "text/x-python",
   "name": "python",
   "nbconvert_exporter": "python",
   "pygments_lexer": "ipython3",
   "version": "3.6.1"
  }
 },
 "nbformat": 4,
 "nbformat_minor": 2
}
