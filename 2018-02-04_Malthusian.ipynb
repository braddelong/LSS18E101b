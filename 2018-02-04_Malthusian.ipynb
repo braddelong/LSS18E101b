{
 "cells": [
  {
   "cell_type": "code",
   "execution_count": null,
   "metadata": {
    "collapsed": true
   },
   "outputs": [],
   "source": []
  },
  {
   "cell_type": "markdown",
   "metadata": {
    "slideshow": {
     "slide_type": "notes"
    }
   },
   "source": [
    "# 2018-02-04 Malthusian\n",
    "\n",
    "## Setting up the Python/Jupyter environment"
   ]
  },
  {
   "cell_type": "code",
   "execution_count": 1,
   "metadata": {},
   "outputs": [
    {
     "data": {
      "application/javascript": [
       "\n",
       "IPython.OutputArea.prototype._should_scroll = function(lines) {\n",
       "    return false;}"
      ],
      "text/plain": [
       "<IPython.core.display.Javascript object>"
      ]
     },
     "metadata": {},
     "output_type": "display_data"
    }
   ],
   "source": [
    "%%javascript\n",
    "\n",
    "IPython.OutputArea.prototype._should_scroll = function(lines) {\n",
    "    return false;}"
   ]
  },
  {
   "cell_type": "code",
   "execution_count": 2,
   "metadata": {
    "collapsed": true
   },
   "outputs": [],
   "source": [
    "# keep output cells from shifting to autoscroll: little scrolling\n",
    "# subwindows within the notebook are an annoyance..."
   ]
  },
  {
   "cell_type": "code",
   "execution_count": 94,
   "metadata": {},
   "outputs": [
    {
     "ename": "SyntaxError",
     "evalue": "invalid syntax (<ipython-input-94-06b60b36740b>, line 3)",
     "output_type": "error",
     "traceback": [
      "\u001b[0;36m  File \u001b[0;32m\"<ipython-input-94-06b60b36740b>\"\u001b[0;36m, line \u001b[0;32m3\u001b[0m\n\u001b[0;31m    $ \\frac{dy}{dt} = g(y - a)  $\u001b[0m\n\u001b[0m    ^\u001b[0m\n\u001b[0;31mSyntaxError\u001b[0m\u001b[0;31m:\u001b[0m invalid syntax\n"
     ]
    }
   ],
   "source": [
    "## Malthusian Growth\n",
    "\n",
    "$ \\frac{dy}{dt} = g(y - a)  $\n",
    "\n",
    "* g = 0.01\n",
    "* a = 10\n",
    "* Start at t = -500 with y = a + 0.00674\n",
    "* Does nothing for a long time—stays very near 10—  \n",
    "then explodes\n",
    "    * and keeps on exploding...\n",
    "* Let's see:\n",
    "\n",
    "# make sure graphs are displayed in main notebook\n",
    "%matplotlib inline  \n",
    "\n",
    "import numpy as np                 # make sure libraries are\n",
    "import pandas as pd                #  in the namespace\n",
    "import matplotlib as mpl\n",
    "import matplotlib.pyplot as plt\n",
    "from IPython.display import Image\n",
    "\n",
    "plt.style.use('seaborn-whitegrid') # graphics setup\n",
    "figure_size = plt.rcParams[\"figure.figsize\"]\n",
    "figure_size[0] = 10\n",
    "figure_size[1] = 7\n",
    "plt.rcParams[\"figure.figsize\"] = figure_size"
   ]
  },
  {
   "cell_type": "code",
   "execution_count": 103,
   "metadata": {},
   "outputs": [
    {
     "name": "stdout",
     "output_type": "stream",
     "text": [
      "        Year   Population       Capital           WEP      Living  \\\n",
      "0    -8000.0     5.000000  1.250000e+04  3.750000e+03  750.000000   \n",
      "1    -7990.0     5.000000  1.250000e+04  3.750000e+03  750.000000   \n",
      "2    -7980.0     5.000000  1.250000e+04  3.751594e+03  750.318804   \n",
      "3    -7970.0     5.000212  1.250159e+04  3.753413e+03  750.650646   \n",
      "4    -7960.0     5.000646  1.250453e+04  3.755437e+03  750.990339   \n",
      "5    -7950.0     5.001306  1.250861e+04  3.757651e+03  751.333965   \n",
      "6    -7940.0     5.002195  1.251368e+04  3.760043e+03  751.678577   \n",
      "7    -7930.0     5.003313  1.251962e+04  3.762601e+03  752.021968   \n",
      "8    -7920.0     5.004660  1.252634e+04  3.765319e+03  752.362501   \n",
      "9    -7910.0     5.006235  1.253376e+04  3.768188e+03  752.698972   \n",
      "10   -7900.0     5.008033  1.254182e+04  3.771202e+03  753.030509   \n",
      "11   -7890.0     5.010053  1.255048e+04  3.774356e+03  753.356493   \n",
      "12   -7880.0     5.012291  1.255969e+04  3.777646e+03  753.676495   \n",
      "13   -7870.0     5.014742  1.256943e+04  3.781067e+03  753.990234   \n",
      "14   -7860.0     5.017404  1.257967e+04  3.784615e+03  754.297540   \n",
      "15   -7850.0     5.020271  1.259039e+04  3.788288e+03  754.598325   \n",
      "16   -7840.0     5.023341  1.260157e+04  3.792083e+03  754.892564   \n",
      "17   -7830.0     5.026608  1.261318e+04  3.795995e+03  755.180282   \n",
      "18   -7820.0     5.030069  1.262523e+04  3.800024e+03  755.461534   \n",
      "19   -7810.0     5.033720  1.263769e+04  3.804165e+03  755.736407   \n",
      "20   -7800.0     5.037557  1.265055e+04  3.808418e+03  756.005000   \n",
      "21   -7790.0     5.041575  1.266381e+04  3.812779e+03  756.267431   \n",
      "22   -7780.0     5.045773  1.267745e+04  3.817247e+03  756.523824   \n",
      "23   -7770.0     5.050144  1.269147e+04  3.821820e+03  756.774310   \n",
      "24   -7760.0     5.054687  1.270586e+04  3.826494e+03  757.019025   \n",
      "25   -7750.0     5.059398  1.272060e+04  3.831270e+03  757.258104   \n",
      "26   -7740.0     5.064273  1.273570e+04  3.836144e+03  757.491685   \n",
      "27   -7730.0     5.069308  1.275114e+04  3.841116e+03  757.719906   \n",
      "28   -7720.0     5.074502  1.276692e+04  3.846183e+03  757.942902   \n",
      "29   -7710.0     5.079850  1.278304e+04  3.851344e+03  758.160808   \n",
      "...      ...          ...           ...           ...         ...   \n",
      "971   1710.0  1216.947971  3.319844e+06  1.039831e+06  854.457716   \n",
      "972   1720.0  1232.909655  3.363984e+06  1.053745e+06  854.681439   \n",
      "973   1730.0  1249.113352  3.408800e+06  1.067874e+06  854.905670   \n",
      "974   1740.0  1265.563164  3.454305e+06  1.082222e+06  855.130410   \n",
      "975   1750.0  1282.263266  3.500511e+06  1.096791e+06  855.355662   \n",
      "976   1760.0  1299.217912  3.547429e+06  1.111587e+06  855.581425   \n",
      "977   1770.0  1316.431435  3.595073e+06  1.126612e+06  855.807702   \n",
      "978   1780.0  1333.908249  3.643454e+06  1.141871e+06  856.034493   \n",
      "979   1790.0  1351.652851  3.692585e+06  1.157369e+06  856.261801   \n",
      "980   1800.0  1369.669819  3.742479e+06  1.173108e+06  856.489625   \n",
      "981   1810.0  1387.963822  3.793149e+06  1.189094e+06  856.717968   \n",
      "982   1820.0  1406.539612  3.844609e+06  1.205330e+06  856.946831   \n",
      "983   1830.0  1425.402032  3.896873e+06  1.221821e+06  857.176215   \n",
      "984   1840.0  1444.556018  3.949955e+06  1.238571e+06  857.406121   \n",
      "985   1850.0  1464.006595  4.003868e+06  1.255586e+06  857.636551   \n",
      "986   1860.0  1483.758887  4.058627e+06  1.272869e+06  857.867507   \n",
      "987   1870.0  1503.818112  4.114248e+06  1.290425e+06  858.098988   \n",
      "988   1880.0  1524.189588  4.170744e+06  1.308259e+06  858.330998   \n",
      "989   1890.0  1544.878734  4.228132e+06  1.326377e+06  858.563536   \n",
      "990   1900.0  1565.891071  4.286428e+06  1.344782e+06  858.796605   \n",
      "991   1910.0  1587.232225  4.345646e+06  1.363480e+06  859.030205   \n",
      "992   1920.0  1608.907931  4.405804e+06  1.382477e+06  859.264339   \n",
      "993   1930.0  1630.924032  4.466918e+06  1.401778e+06  859.499007   \n",
      "994   1940.0  1653.286482  4.529005e+06  1.421387e+06  859.734211   \n",
      "995   1950.0  1676.001350  4.592083e+06  1.441311e+06  859.969952   \n",
      "996   1960.0  1699.074820  4.656168e+06  1.461555e+06  860.206231   \n",
      "997   1970.0  1722.513198  4.721278e+06  1.482125e+06  860.443050   \n",
      "998   1980.0  1746.322907  4.787433e+06  1.503026e+06  860.680411   \n",
      "999   1990.0  1770.510496  4.854650e+06  1.524265e+06  860.918314   \n",
      "1000  2000.0  1795.082639  4.922948e+06  1.545848e+06  861.156761   \n",
      "\n",
      "         Efficiency        Pop_Gr    Eff_Gr        Cap_Gr  \n",
      "0       9793.693837  0.000000e+00  0.000000  0.000000e+00  \n",
      "1       9793.693837  2.220446e-18  0.000085  6.938894e-18  \n",
      "2       9802.021662  4.249819e-06  0.000085  1.275217e-05  \n",
      "3       9810.360111  8.671517e-06  0.000085  2.347305e-05  \n",
      "4       9818.709699  1.319581e-05  0.000085  3.261408e-05  \n",
      "5       9827.070896  1.777041e-05  0.000085  4.052215e-05  \n",
      "6       9835.444140  2.235602e-05  0.000085  4.746381e-05  \n",
      "7       9843.829842  2.692329e-05  0.000085  5.364397e-05  \n",
      "8       9852.228390  3.145050e-05  0.000085  5.922017e-05  \n",
      "9       9860.640155  3.592169e-05  0.000085  6.431370e-05  \n",
      "10      9869.065489  4.032537e-05  0.000085  6.901799e-05  \n",
      "11      9877.504735  4.465339e-05  0.000086  7.340512e-05  \n",
      "12      9885.958223  4.890017e-05  0.000086  7.753082e-05  \n",
      "13      9894.426271  5.306209e-05  0.000086  8.143825e-05  \n",
      "14      9902.909192  5.713699e-05  0.000086  8.516096e-05  \n",
      "15      9911.407288  6.112381e-05  0.000086  8.872513e-05  \n",
      "16      9919.920856  6.502234e-05  0.000086  9.215123e-05  \n",
      "17      9928.450183  6.883298e-05  0.000086  9.545543e-05  \n",
      "18      9936.995554  7.255660e-05  0.000086  9.865052e-05  \n",
      "19      9945.557246  7.619440e-05  0.000086  1.017467e-04  \n",
      "20      9954.135531  7.974784e-05  0.000086  1.047523e-04  \n",
      "21      9962.730675  8.321852e-05  0.000086  1.076740e-04  \n",
      "22      9971.342940  8.660819e-05  0.000087  1.105174e-04  \n",
      "23      9979.972584  8.991866e-05  0.000087  1.132870e-04  \n",
      "24      9988.619859  9.315178e-05  0.000087  1.159869e-04  \n",
      "25      9997.285014  9.630945e-05  0.000087  1.186203e-04  \n",
      "26     10005.968293  9.939354e-05  0.000087  1.211903e-04  \n",
      "27     10014.669936  1.024059e-04  0.000087  1.236994e-04  \n",
      "28     10023.390180  1.053485e-04  0.000087  1.261499e-04  \n",
      "29     10032.129257  1.082230e-04  0.000087  1.285440e-04  \n",
      "...             ...           ...       ...           ...  \n",
      "971   108638.192283  1.303938e-03  0.000563  1.321667e-03  \n",
      "972   109251.519006  1.306556e-03  0.000564  1.324321e-03  \n",
      "973   109869.549007  1.309179e-03  0.000565  1.326981e-03  \n",
      "974   110492.325390  1.311808e-03  0.000567  1.329646e-03  \n",
      "975   111119.891715  1.314442e-03  0.000568  1.332316e-03  \n",
      "976   111752.291999  1.317081e-03  0.000569  1.334992e-03  \n",
      "977   112389.570724  1.319725e-03  0.000570  1.337673e-03  \n",
      "978   113031.772838  1.322375e-03  0.000571  1.340360e-03  \n",
      "979   113678.943767  1.325030e-03  0.000572  1.343052e-03  \n",
      "980   114331.129416  1.327690e-03  0.000573  1.345749e-03  \n",
      "981   114988.376177  1.330356e-03  0.000575  1.348452e-03  \n",
      "982   115650.730930  1.333027e-03  0.000576  1.351160e-03  \n",
      "983   116318.241058  1.335703e-03  0.000577  1.353873e-03  \n",
      "984   116990.954443  1.338385e-03  0.000578  1.356593e-03  \n",
      "985   117668.919479  1.341072e-03  0.000579  1.359317e-03  \n",
      "986   118352.185073  1.343765e-03  0.000580  1.362047e-03  \n",
      "987   119040.800657  1.346463e-03  0.000581  1.364783e-03  \n",
      "988   119734.816188  1.349166e-03  0.000583  1.367524e-03  \n",
      "989   120434.282158  1.351875e-03  0.000584  1.370270e-03  \n",
      "990   121139.249600  1.354589e-03  0.000585  1.373022e-03  \n",
      "991   121849.770093  1.357309e-03  0.000586  1.375780e-03  \n",
      "992   122565.895769  1.360034e-03  0.000587  1.378543e-03  \n",
      "993   123287.679323  1.362765e-03  0.000589  1.381311e-03  \n",
      "994   124015.174012  1.365501e-03  0.000590  1.384086e-03  \n",
      "995   124748.433673  1.368242e-03  0.000591  1.386866e-03  \n",
      "996   125487.512717  1.370990e-03  0.000592  1.389651e-03  \n",
      "997   126232.466146  1.373742e-03  0.000593  1.392442e-03  \n",
      "998   126983.349557  1.376500e-03  0.000594  1.395239e-03  \n",
      "999   127740.219148  1.379264e-03  0.000596  1.398041e-03  \n",
      "1000  128503.131725  1.382033e-03  0.000597  1.400849e-03  \n",
      "\n",
      "[1001 rows x 9 columns]\n"
     ]
    },
    {
     "data": {
      "text/plain": [
       "<matplotlib.axes._subplots.AxesSubplot at 0x11099d240>"
      ]
     },
     "execution_count": 103,
     "metadata": {},
     "output_type": "execute_result"
    },
    {
     "data": {
      "image/png": "[encoded data removed]",
      "text/plain": [
       "<matplotlib.figure.Figure at 0x1109e7b38>"
      ]
     },
     "metadata": {},
     "output_type": "display_data"
    }
   ],
   "source": [
    "alpha = 0.3                      \n",
    "beta = 0.8\n",
    "s = 0.1\n",
    "delta = 0.03\n",
    "LShare = beta - alpha\n",
    "pi = .01                 # an e-fold increase in real income per capita to 2038 dollars/year\n",
    "                         # raises population growth from 0 to 1% per year\n",
    "subsistence = 750\n",
    "lambda_ = 0.000085         # initial efficiency of labor growth at 0.0085% per year; each e-fold\n",
    "                         # increase in world gdp raises efficiency of labor growth by an\n",
    "                         # additional 0.0085% per year\n",
    "\n",
    "n0 = 0.000\n",
    "g0 = 0.000\n",
    "\n",
    "array = np.zeros((1001,9))       \n",
    "\n",
    "m_df = pd.DataFrame(array, \n",
    "    columns=[\"Year\",\"Population\", \"Capital\", \"WEP\", \"Living\", \"Efficiency\", \"Pop_Gr\", \"Eff_Gr\", \"Cap_Gr\"])\n",
    "\n",
    "m_df.Year[0] = -8000\n",
    "m_df.Population[0] = 5\n",
    "m_df.Living[0] = 750\n",
    "m_df.WEP[0] = 3750\n",
    "m_df.Capital[0] = (s/delta) * m_df.WEP[0]\n",
    "m_df.Efficiency[0] = (m_df.WEP[0]**(1/(beta-alpha)) * \n",
    "    m_df.Population[0]**(-1) * m_df.Capital[0]**((-alpha)/(beta-alpha)))\n",
    "m_df.Pop_Gr[0] = n0\n",
    "m_df.Eff_Gr[0] = g0\n",
    "m_df.Cap_Gr[0] = s * m_df.WEP[0]/m_df.Capital[0] - delta\n",
    "g1 = np.log(m_df.WEP[0]/np.exp(1))\n",
    "\n",
    "for t in range(1, 1001):\n",
    "    m_df.Year[t] = m_df.Year[t-1] + 10\n",
    "    m_df.Population[t] = m_df.Population[t-1]*(1 + m_df.Pop_Gr[t-1])**10\n",
    "    m_df.Capital[t] = m_df.Capital[t-1] * (1 + m_df.Cap_Gr[t-1])**10\n",
    "    m_df.Efficiency[t] = m_df.Efficiency[t-1] * (1 + m_df.Eff_Gr[t-1])**10\n",
    "    m_df.WEP[t] = m_df.Capital[t]**alpha * (m_df.Efficiency[t] *\n",
    "        m_df.Population[t])**(beta - alpha)\n",
    "    m_df.Living[t] = m_df.WEP[t]/m_df.Population[t]\n",
    "    m_df.Pop_Gr[t] = pi * np.log(m_df.Living[t]/subsistence) + n0\n",
    "    m_df.Eff_Gr[t] = lambda_ * (np.log(m_df.WEP[t]) - g1) + g0\n",
    "    m_df.Cap_Gr[t] = s * m_df.WEP[t]/m_df.Capital[t] - delta\n",
    "\n",
    "print(m_df)\n",
    "\n",
    "m_df.Population.plot()"
   ]
  },
  {
   "cell_type": "code",
   "execution_count": null,
   "metadata": {},
   "outputs": [],
   "source": [
    "malthus_df.plot()     # and graph\n",
    "\n",
    "plt.ylabel(\"Value\", fontsize=20)   # set labels\n",
    "plt.xlabel(\"Time\", fontsize=20)\n",
    "plt.suptitle(\"Malthus\", fontsize=28)"
   ]
  },
  {
   "cell_type": "markdown",
   "metadata": {},
   "source": [
    "**Math presentation can be ugly inline**:\n",
    "\n",
    "* dy/dt = g(y - a)\n",
    "* y = 10 + exp(0.01(t-10))\n",
    "\n",
    "&nbsp;\n",
    "\n",
    "**Or prettier**:\n",
    "\n",
    "(1)&nbsp;&nbsp;&nbsp;&nbsp;&nbsp;&nbsp;&nbsp;&nbsp;&nbsp;&nbsp;\n",
    "$ \\frac{dy}{dt} = d(y - a)  $\n",
    "\n",
    "(2)&nbsp;&nbsp;&nbsp;&nbsp;&nbsp;&nbsp;&nbsp;&nbsp;&nbsp;&nbsp;\n",
    "$ y = 10 + e^{0.01(t-10}  $\n",
    "\n",
    "----\n",
    "\n",
    "&nbsp;"
   ]
  },
  {
   "cell_type": "markdown",
   "metadata": {},
   "source": [
    "**Rule of 72 for Exponential Growth**:\n",
    "\n",
    "* Rules of thumb for a growth rate g:\n",
    "    * (y-a) compounded continuously doubles every 0.693/g periods\n",
    "    * (y-a) grows a thousandfold every 6.91/g periods\n",
    "* But we use the _Rule of 72_:\n",
    "    * Why? 72 has many divisors\n",
    "    * Why? 69.3—ln(2)—is for continuous compounding\n",
    "    * Let's see:\n",
    "* Why is the thousandfold time ten times the doubling time?\n",
    "    * 1024 = 2^10\n",
    "    * ln(1024) = 10 * ln(2)"
   ]
  },
  {
   "cell_type": "code",
   "execution_count": null,
   "metadata": {},
   "outputs": [],
   "source": [
    "array = np.zeros((21,2))         # initialize an array\n",
    "rule_of_72_df = pd.DataFrame(array, \n",
    "    columns=[\"rate\",\"doubling_time_times_rate\"])      # create a dataframe\n",
    "\n",
    "rule_of_72_df.rate[0] = 0\n",
    "rule_of_72_df.doubling_time_times_rate[0] = np.log(2)*100\n",
    "\n",
    "for i in range(1, 21):\n",
    "    rule_of_72_df.rate[i] = i*.01\n",
    "    rule_of_72_df.doubling_time_times_rate[i] = (i * \n",
    "        np.log(2)/np.log(1 + i*.01))\n",
    "\n",
    "rule_of_72_df = rule_of_72_df.set_index(\"rate\")\n",
    "rule_of_72_df.plot()\n",
    "plt.ylabel(\"Doubling Time Times Rate\", fontsize=20)   # set labels\n",
    "plt.xlabel(\"Rate\", fontsize=20)\n",
    "plt.xlim(0,)\n",
    "plt.suptitle(\"Rule of 72\", fontsize=28)"
   ]
  },
  {
   "cell_type": "markdown",
   "metadata": {},
   "source": [
    "For compounded growth rates of between 6.5% and 9.5% per period,  \n",
    "the product of the doubling time and the growth rate is closer  \n",
    "to 72 than to any other integer...\n",
    "\n",
    "----\n",
    "\n",
    "&nbsp;"
   ]
  },
  {
   "cell_type": "markdown",
   "metadata": {},
   "source": [
    "**\"exp\" \"E\"**\n",
    "\n",
    "* It’s a function: we feed it a number x, and get out exp(x) (or E^x)\n",
    "* We can calculate it:\n",
    "    * exp(x) = 1+x+(x^2)/2+(x^3)/6+(x^4)/24+…\n",
    "    * exp(0)=1\n",
    "    * exp(1)=2.71828182846…\n",
    "* But we don’t have to…\n",
    "    * Over 1618-1731, Napier, Oughtred, Bernoulli, Leibnitz,  \n",
    "and Euler did it for us…"
   ]
  },
  {
   "cell_type": "markdown",
   "metadata": {},
   "source": [
    "## Exponential Convergence\n",
    "\n",
    "(dy/dt) = g(k - y)\n",
    "\n",
    "* start at t = 0 with y = 0\n",
    "* g = 0.01; k = 100\n",
    "* heads rapidly for k\n",
    "* and then stays there\n",
    "* (k-y) halves in… \n",
    "    * …guess what? 72/g\n",
    "* (k-y) shrinks to a thousandth of its initial value in… \n",
    "    * …guess what? 7.2/g\n",
    "* Let's see:"
   ]
  },
  {
   "cell_type": "code",
   "execution_count": null,
   "metadata": {},
   "outputs": [],
   "source": [
    "k = 10                             # set the final asymptote\n",
    "g = 0.01                           # set the growth rate\n",
    "array = np.zeros((1001,2))         # initialize an array\n",
    "exponential_function_df = pd.DataFrame(array, \n",
    "    columns=[\"time\",\"value\"])      # create a dataframe\n",
    "\n",
    "# calculate values for the exponential function\n",
    "\n",
    "for t in range(0, 1001, 1):\n",
    "    exponential_function_df.time[t] = t\n",
    "    exponential_function_df.value[t] =  k + (0 - k) * np.exp(-g*t)\n",
    "    \n",
    "exponential_function_df = exponential_function_df.set_index(\"time\")\n",
    "exponential_function_df.plot()     # and graph\n",
    "\n",
    "plt.ylabel(\"Value\", fontsize=20)   # set labels\n",
    "plt.xlabel(\"Time\", fontsize=20)\n",
    "plt.suptitle(\"Exponential Convergence\", fontsize=28)\n",
    "plt.title(\"asymptote = 10; growth rate = 0.01\", fontsize=16)"
   ]
  },
  {
   "cell_type": "markdown",
   "metadata": {},
   "source": [
    "----\n",
    "\n",
    "&nbsp;"
   ]
  },
  {
   "cell_type": "markdown",
   "metadata": {},
   "source": [
    "## Logistic Growth\n",
    "\n",
    "* Suppose we want to combine:\n",
    "    * (dy/dt) = g(y - a) when y is small…\n",
    "    * (dy/dt) = g(k - y) when y is big…\n",
    "* (dy/dt) = g(y-a)(1-y/k), for k >> a\n",
    "\n",
    "(3)&nbsp;&nbsp;&nbsp;&nbsp;&nbsp;&nbsp;&nbsp;&nbsp;&nbsp;&nbsp;\n",
    "$ \\frac{dy}{dt} = g(y-a)\\left(1-\\frac{y}{k}\\right)  $"
   ]
  },
  {
   "cell_type": "code",
   "execution_count": null,
   "metadata": {},
   "outputs": [],
   "source": [
    "array = np.zeros((1001,2))         # initialize an array\n",
    "logistic_df = pd.DataFrame(array, \n",
    "    columns=[\"time\",\"value\"])      # create a dataframe\n",
    "\n",
    "a = 100\n",
    "g = 0.03\n",
    "k = 1000\n",
    "\n",
    "logistic_df.time[0] = 0\n",
    "logistic_df.value[0] = a + 0.1\n",
    "\n",
    "for t in range(1,1001):\n",
    "    logistic_df.time[t] = t\n",
    "    logistic_df.value[t] = (logistic_df.value[t-1] + g * \n",
    "       (logistic_df.value[t-1]-a)*(1-logistic_df.value[t-1]/k))\n",
    "\n",
    "logistic_df = logistic_df.set_index(\"time\")\n",
    "logistic_df.plot()\n",
    "plt.ylabel(\"Value\", fontsize=20)   # set labels\n",
    "plt.xlabel(\"Time\", fontsize=20)\n",
    "plt.suptitle(\"Logistic Curve\", fontsize=28)"
   ]
  },
  {
   "cell_type": "markdown",
   "metadata": {},
   "source": [
    "----\n",
    "\n",
    "&nbsp;"
   ]
  },
  {
   "cell_type": "markdown",
   "metadata": {},
   "source": [
    "# Growth: Things to Remember\n",
    "\n",
    "* Asymptote: a (in the negative direction, for growth and logistic)\n",
    "* Asymptote: k (in the positive direction, for convergence and logistic)\n",
    "* **Rule of 72**: 72 divided by the growth rate gives you:\n",
    "    * the doubling time (for growth) \n",
    "    * or halving (for convergence) time\n",
    "    * Why 72? Why not 0.693?\n",
    "        * 72 is easier to do in your head: \n",
    "            * 72 = 36x2 = 24x3 = 18x4 = 12x6 = 9x8\n",
    "        * If things aren’t continuous but come in steps…\n",
    "* **Rule of 720**: 1000-fold time is 10 times doubling time"
   ]
  },
  {
   "cell_type": "markdown",
   "metadata": {},
   "source": [
    "<https://github.com/braddelong/LSS18E101b/blob/master/2018-02-04_Econ%20113%20Analyzing%20Growth.ipynb>"
   ]
  }
 ],
 "metadata": {
  "kernelspec": {
   "display_name": "Python 3",
   "language": "python",
   "name": "python3"
  },
  "language_info": {
   "codemirror_mode": {
    "name": "ipython",
    "version": 3
   },
   "file_extension": ".py",
   "mimetype": "text/x-python",
   "name": "python",
   "nbconvert_exporter": "python",
   "pygments_lexer": "ipython3",
   "version": "3.6.1"
  }
 },
 "nbformat": 4,
 "nbformat_minor": 2
}
