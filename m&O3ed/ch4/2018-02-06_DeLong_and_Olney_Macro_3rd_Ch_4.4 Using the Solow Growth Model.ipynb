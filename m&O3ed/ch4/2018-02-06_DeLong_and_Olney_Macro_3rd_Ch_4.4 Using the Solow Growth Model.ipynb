{
 "cells": [
  {
   "cell_type": "markdown",
   "metadata": {
    "slideshow": {
     "slide_type": "notes"
    }
   },
   "source": [
    "# 2018-0206 DeLong and Olney Macroeconomics 3rd Edition ch 4.3: Using the Solow Growth Model"
   ]
  },
  {
   "cell_type": "markdown",
   "metadata": {},
   "source": [
    "## Setting up the Python/Jupyter environment"
   ]
  },
  {
   "cell_type": "code",
   "execution_count": 1,
   "metadata": {},
   "outputs": [
    {
     "data": {
      "application/javascript": [
       "\n",
       "IPython.OutputArea.prototype._should_scroll = function(lines) {\n",
       "    return false;}"
      ],
      "text/plain": [
       "<IPython.core.display.Javascript object>"
      ]
     },
     "metadata": {},
     "output_type": "display_data"
    }
   ],
   "source": [
    "%%javascript\n",
    "\n",
    "IPython.OutputArea.prototype._should_scroll = function(lines) {\n",
    "    return false;}"
   ]
  },
  {
   "cell_type": "code",
   "execution_count": 2,
   "metadata": {
    "collapsed": true
   },
   "outputs": [],
   "source": [
    "# keep output cells from shifting to autoscroll: little scrolling\n",
    "# subwindows within the notebook are an annoyance..."
   ]
  },
  {
   "cell_type": "code",
   "execution_count": 3,
   "metadata": {},
   "outputs": [
    {
     "name": "stderr",
     "output_type": "stream",
     "text": [
      "/Users/delong/anaconda3/lib/python3.6/site-packages/statsmodels/compat/pandas.py:56: FutureWarning: The pandas.core.datetools module is deprecated and will be removed in a future version. Please use the pandas.tseries module instead.\n",
      "  from pandas.core import datetools\n"
     ]
    }
   ],
   "source": [
    "# set up the environment by reading in every library we might need: \n",
    "# os... graphics... data manipulation... time... math... statistics...\n",
    "\n",
    "import sys\n",
    "import os\n",
    "from urllib.request import urlretrieve\n",
    "\n",
    "import matplotlib as mpl\n",
    "import matplotlib.pyplot as plt\n",
    "from IPython.display import Image\n",
    "\n",
    "import pandas as pd\n",
    "from pandas import DataFrame, Series\n",
    "from datetime import datetime\n",
    "\n",
    "import scipy as sp\n",
    "import numpy as np\n",
    "import math\n",
    "import random\n",
    "\n",
    "import seaborn as sns\n",
    "import statsmodels\n",
    "import statsmodels.api as sm\n",
    "import statsmodels.formula.api as smf\n",
    "\n",
    "# report library versions..."
   ]
  },
  {
   "cell_type": "code",
   "execution_count": 4,
   "metadata": {
    "collapsed": true
   },
   "outputs": [],
   "source": [
    "%matplotlib inline \n",
    "\n",
    "# put graphs into the notebook itself..."
   ]
  },
  {
   "cell_type": "code",
   "execution_count": 5,
   "metadata": {
    "collapsed": true
   },
   "outputs": [],
   "source": [
    "# graphics setup: seaborn-whitegrid and figure size...\n",
    "\n",
    "plt.style.use('seaborn-whitegrid')\n",
    "\n",
    "figure_size = plt.rcParams[\"figure.figsize\"]\n",
    "figure_size[0] = 12\n",
    "figure_size[1] = 10\n",
    "plt.rcParams[\"figure.figsize\"] = figure_size"
   ]
  },
  {
   "cell_type": "markdown",
   "metadata": {},
   "source": [
    "# 4.4 USING THE SOLOW GROWTH MODEL\n",
    "\n",
    "Up until now we have assumed that all the parameters of the Solow growth model are unchanging. This is false. But it allowed us to make progress.\n",
    "\n",
    "Now let's try to make some more progress:\n",
    "\n",
    "----\n",
    "\n",
    "&nbsp;"
   ]
  },
  {
   "cell_type": "markdown",
   "metadata": {},
   "source": [
    "## 4.4.1 Jumps in Parameter Values\n",
    "\n",
    "What if one or more of the parameters in the Solow growth model  were to suddenly and substantially shift? What if the labor-force growth rate were to rise, or the rate of technological progress to fall? \n",
    "\n",
    "One principal use of the Solow growth model is to analyze questions like these: how changes in the economic environment and in economic policy will affect an economy’s long-run levels and growth path of output per worker Y/L.\n",
    "\n",
    "Let’s consider, as examples, several such shifts: an increase in the growth rate of the labor force n, a change in the economy’s saving-investment rate s, and a change in the growth rate of labor efficiency g. All of these will have effects on the balanced- growth path level of output per worker. But only one—the change in the growth rate of labor efficiency—will permanently affect the growth rate of the economy.\n",
    "\n",
    "We will assume that the economy starts on its balanced growth path—the old balanced growth path, the pre-shift balanced growth path. Then we will have one (or more) of the parameters—the savings-investment rate s, the labor force growth rate n, the labor efficiency growth rate g—jump discontinuously, and then remain at its new level indefinitely. The jump will shift the balanced growth path. But the level of output per worker will not immediately jump. Instead, the economy's variables will then, starting from their old balanced growth path values, begin to converge to the new balanced growth path—and converge in the standard way.\n",
    "\n",
    "Remind yourselves of the key equations for understanding the model:\n",
    "\n",
    "The level of output per worker is:\n",
    "\n",
    "(4.4.1)&nbsp;&nbsp;&nbsp;&nbsp;&nbsp;&nbsp;&nbsp;&nbsp;&nbsp;&nbsp;\n",
    "$ \\left(\\frac{Y}{L}\\right) =  \\left(\\frac{K}{Y}\\right)^{\\left(\\frac{\\alpha}{1-\\alpha}\\right)}(E)  $\n",
    "\n",
    "The balanced-growth path level of output per worker is:\n",
    "\n",
    "(4.4.2)&nbsp;&nbsp;&nbsp;&nbsp;&nbsp;&nbsp;&nbsp;&nbsp;&nbsp;&nbsp;\n",
    "$ \\left(\\frac{Y}{L}\\right)^* =  \\left(\\frac{s}{n+g+\\delta}\\right)^{\\left(\\frac{\\alpha}{1-\\alpha}\\right)}(E)  $\n",
    "\n",
    "The speed of convergence of the capital-output ratio to its balanced-growth path value is:\n",
    "\n",
    "(4.4.3)&nbsp;&nbsp;&nbsp;&nbsp;&nbsp;&nbsp;&nbsp;&nbsp;&nbsp;&nbsp;\n",
    "$ \\frac{d(K/Y)}{dt} = -(1-\\alpha)(n+g+\\delta)\\left(\\frac{K}{Y} - \\frac{s}{n+g+\\delta}\\right)  $\n",
    "\n",
    "----\n",
    "\n",
    "&nbsp;"
   ]
  },
  {
   "cell_type": "markdown",
   "metadata": {},
   "source": [
    "## 4.4.2 A Shift in the Labor-Force Growth Rate\n",
    "\n",
    "Real-world economies exhibit profound shifts in labor-force growth. The average woman in India today has only half the number of children that the average woman in India had only half a century ago. The U.S. labor force in the early eighteenth century grew at nearly 3 percent per year, doubling every 24 years. Today the U.S. labor force grows at 1 percent per year. Changes in the level of prosperity, changes in the freedom of migration, changes in the status of women that open up new categories of jobs to them (Supreme Court Justice Sandra Day O’Connor could not get a private-sector legal job in San Francisco when she graduated from Stanford Law School even with her amazingly high class rank), changes in the average age of marriage or the availability of birth control that change fertility—all of these have powerful effects on economies’ rates of labor-force growth.\n",
    "\n",
    "What effects do such changes have on output per worker Y/L—on our mea sure of material prosperity? The faster the growth rate of the labor force n, the lower will be the economy’s balanced-growth capital-output ratio s/(n + g - δ). Why? Because each new worker who joins the labor force must be equipped with enough capital to be productive and to, on average, match the productivity of his or her peers. The faster the rate of growth of the labor force, the larger the share of current investment that must go to equip new members of the labor force with the capital they need to be productive. Thus the lower will be the amount of invest  ment that can be devoted to building up the average ratio of capital to output.\n",
    "\n",
    "A sudden and permanent increase in the rate of growth of the labor force will lower the level of output per worker on the balanced-growth path. How large will the long-run change in the level of output be, relative to what would have happened had labor-force growth not increased? It is straightforward to calculate if we know the other parameter values, as is shown in Box 4.4.1.\n",
    "\n",
    "----\n",
    "\n",
    "&nbsp;"
   ]
  },
  {
   "cell_type": "markdown",
   "metadata": {},
   "source": [
    "**Box 4.4.1: An Increase in the Labor Force Growth Rate: An Example**:\n",
    "\n",
    "Consider an economy in which the parameter α is 1/2, the efficiency of labor growth rate g is 1.5 percent per year, the depreciation rate δ is 3.5 percent per year, and the saving rate s is 21 percent. Suppose that the labor-force growth rate suddenly and permanently increases from 1 to 2 percent per year.\n",
    "\n",
    "Before the increase in the labor-force growth rate, the balanced-growth equilibrium capital-output ratio was:\n",
    "\n",
    "&nbsp;&nbsp;&nbsp;&nbsp;&nbsp;&nbsp;&nbsp;&nbsp;&nbsp;\n",
    "$ \\frac{K}{Y} = \\frac{s}{n+g+\\delta} = \\frac{0.21}{0.01 + 0.015 + 0.035} = 3.5  $\n",
    "\n",
    "After the increase in the labor-force growth rate, the new balanced-growth equilibrium capital-output ratio will be:\n",
    "\n",
    "&nbsp;&nbsp;&nbsp;&nbsp;&nbsp;&nbsp;&nbsp;&nbsp;&nbsp;\n",
    "$ \\frac{K}{Y} = \\frac{s}{n+g+\\delta} = \\frac{0.21}{0.02 + 0.015 + 0.035} = 3  $\n",
    "\n",
    "Before the increase in labor-force growth, the level of output per worker along the balanced-growth path was equal to:\n",
    "\n",
    "&nbsp;&nbsp;&nbsp;&nbsp;&nbsp;&nbsp;&nbsp;&nbsp;&nbsp;\n",
    "$ \\frac{Y_t}{L_t} = \\left(\\frac{s}{n+g+\\delta}\\right)^{\\alpha/(1-\\alpha)}E_t = 3.5^1(E_t) = 3.5(E_t) $\n",
    "\n",
    "After the increase in labor-force growth, the level of output per worker along the balanced-growth path will be equal to:\n",
    "\n",
    "&nbsp;&nbsp;&nbsp;&nbsp;&nbsp;&nbsp;&nbsp;&nbsp;&nbsp;\n",
    "$ \\frac{Y_t}{L_t} = \\left(\\frac{s}{n+g+\\delta}\\right)^{\\alpha/(1-\\alpha)}E_t = 3^1(E_t) = 3(E_t)  $\n",
    "\n",
    "This fall in the balanced-growth path level of output per worker means that in the long run—after the economy has converged to its new balanced-growth path—one-seventh of its _per worker_ economic prosperity has been lost because of the increase in the rate of labor-force growth.\n",
    "\n",
    "In the short run of a year or two, however, such an increase in the labor-force growth rate has little effect on output per worker. In the months and years after labor-force growth increases, the increased rate of labor-force growth has had no time to affect the economy’s capital-output ratio. But over decades and generations, the capital-output ratio will fall as it converges to its new balanced-growth equilibrium level.\n",
    "\n",
    "A sudden and permanent change in the rate of growth of the labor force will immediately and substantially change the level of output per worker along the economy’s balanced-growth path: It will shift the balanced-growth path for output per worker up (if labor-force growth falls) or down (if labor-force growth rises). But there is no corresponding immediate jump in the actual level of output per worker in the economy. Output per worker doesn’t immediately jump—it is just that the shift in the balanced-growth path means that the economy is no longer in its Solow growth model long-run equilibrium.\n",
    "\n",
    "----\n",
    "\n",
    "&nbsp;"
   ]
  },
  {
   "cell_type": "markdown",
   "metadata": {},
   "source": [
    "**Box 4.4.2: The Labor-Force Growth Rate Matters**\n",
    "\n",
    "The average country with a labor-force growth rate of less than 1 percent per year has an output-per-worker level that is nearly 60 percent of the U.S. level. The average country with a labor-force growth rate of more than 3 percent per year has an output-per-worker level that is only 20 percent of the U.S. level.\n",
    "\n",
    "To some degree poor countries have fast labor-force growth rates because they are poor: Causation runs both ways. Nevertheless, high labor-force growth rates are a powerful cause of low capital intensity and relative poverty in the world today.\n",
    "\n",
    "----\n",
    "\n",
    "&nbsp;"
   ]
  },
  {
   "cell_type": "markdown",
   "metadata": {},
   "source": [
    "**Figure 4.4.1: The Labor Force Growth Rate Matters**\n",
    "\n",
    "<img style=\"display:block; margin-left:auto; margin-right:auto;\" src=\"http://delong.typepad.com/.a/6a00e551f08003883401b8d2d7ef88970c-pi\" alt=\"Output per worker and labor force growth\" title=\"output_per_worker_and_labor_force_growth.png\" border=\"0\" width=\"600\" height=\"552\" />\n",
    "\n",
    "###### Source: Authors' calculations from Alan Heston, Robert Summers, and Bettina Aten, Penn World Table Version 6.1, Center for International Comparisons at the University of Pennsylvania (CICUP), October 2002, www.nber.org.\n",
    "\n",
    "----\n",
    "\n",
    "&nbsp;"
   ]
  },
  {
   "cell_type": "markdown",
   "metadata": {},
   "source": [
    "How important is all this in the real world? Does a high rate of labor-force growth play a role in making countries relatively poor not just in economists’ models but in reality? It turns out that it is important. Of the 22 countries in the world in 2000 with output-per-worker levels at least half of the U.S. level, 18 had labor-force growth rates of less than 2 percent per year, and 12 had labor-force growth rates of less than 1 percent per year. The additional investment requirements imposed by rapid labor-force growth are a powerful reducer of capital intensity and a powerful obstacle to rapid economic growth.\n",
    "\n",
    "It takes time, decades and generations, for the economy to converge to its new balanced-growth path equilibrium, and thus for the shift in labor-force growth to affect average prosperity and living standards. But the time needed is reason for governments that value their countries’ long-run prosperity to take steps now (or even sooner) to start assisting the demographic transition to low levels of population growth. Female education, social changes that provide women with more opportunities than being a housewife, inexpensive birth control—all these pay large long-run dividends as far as national prosperity levels are concerned.\n",
    "\n",
    "U.S. President John F Kennedy used to tell a story of a retired French general, Marshal Lyautey, “who once asked his gardener to plant a tree. The gardener objected that the tree was slow-growing and would not reach maturity for a hun  dred years. The Marshal replied, ‘In that case, there is no time to lose, plant it this afternoon.’”\n",
    "\n",
    "----\n",
    "\n",
    "&nbsp;"
   ]
  },
  {
   "cell_type": "markdown",
   "metadata": {},
   "source": [
    "### 4.4.2.1 The Algebra of a Higher Labor Force Growth Rate\n",
    "\n",
    "But rather than calculating example by example, set of parameter values by set of parameter values, we can gain some insight by resorting to algebra, and consider in generality the effect on capital-output ratios and output per worker levels of an increase Δn in the labor force growth rate, following an old math convention of using \"Δ\" to stand for a sudden and discrete change.\n",
    "\n",
    "Assume the economy has its Solow growth parameters, and its initial balanced-growth path capital-output ratio\n",
    "\n",
    "(4.4.4)&nbsp;&nbsp;&nbsp;&nbsp;&nbsp;&nbsp;&nbsp;&nbsp;&nbsp;&nbsp;\n",
    "$ {\\frac{K}{Y}^*}_{in} = \\frac{s}{n+g+\\delta}  $\n",
    "\n",
    "with \"in\" standing for \"initial\".\n",
    "\n",
    "And now let us consider an alternative scenario, with \"alt\" standing for \"alternative\", in which things had been different for a long time:\n",
    "\n",
    "(4.4.5)&nbsp;&nbsp;&nbsp;&nbsp;&nbsp;&nbsp;&nbsp;&nbsp;&nbsp;&nbsp;\n",
    "$ {\\frac{K}{Y}^*}_{alt} = \\frac{s}{n+{\\Delta}n+g+\\delta}  $\n",
    "\n",
    "(4.4.6)&nbsp;&nbsp;&nbsp;&nbsp;&nbsp;&nbsp;&nbsp;&nbsp;&nbsp;&nbsp;\n",
    "$ {\\frac{K}{Y}^*}_{new} = \\left(\\frac{s}{n+g+\\delta}\\right)\\left(\\frac{n+g+\\delta}{(n+g+\\delta) + {\\Delta}n}\\right)  $\n",
    "\n",
    "But the first term on the right hand side is just the initial capital-output ratio:\n",
    "\n",
    "(4.4.7)&nbsp;&nbsp;&nbsp;&nbsp;&nbsp;&nbsp;&nbsp;&nbsp;&nbsp;&nbsp;\n",
    "$ {\\frac{K}{Y}^*}_{new} = \\left(\\frac{K}{Y}\\right)_{in} \\left(\\frac{1}{1 + \\frac{{\\Delta}n}{n+g+\\delta}}\\right)  $\n",
    "\n",
    "And we know that $ \\frac{1}{1+x}  $ is approximately $ 1-x  $ for small values of x, so we can make an approximation:\n",
    "\n",
    "(4.4.8)&nbsp;&nbsp;&nbsp;&nbsp;&nbsp;&nbsp;&nbsp;&nbsp;&nbsp;&nbsp;\n",
    "$ {\\frac{K}{Y}^*}_{new} ≈ {\\frac{K}{Y}^*}_{old} = - \\left({\\frac{K}{Y}^*}_{old}\\right)\\left(\\frac{{\\Delta}n}{n+g+\\delta}\\right)  $\n",
    "\n",
    "Take the proportional change in the denominator of the expression for the balanced-growth capital output ratio. Multiply that proportional change by the initial balanced-growth capital-output ratio. That is the differential we are looking for. And by amplifying or damping that change by α/(1−α) we get the differential for output per worker.\n",
    "\n",
    "----\n",
    "\n",
    "&nbsp;"
   ]
  },
  {
   "cell_type": "markdown",
   "metadata": {},
   "source": [
    "## 4.4.3 A Shift in the Growth Rate of the Efficiency of Labor\n",
    "\n",
    "### 4.4.3.1 Efficiency of Labor the Master Key to Long Run Growth\n",
    "\n",
    "By far the most important impact on an economy’s balanced-growth path values of output per worker, however, is from shifts in the growth rate of the efhciency of labor g. We already know that growth in the efhciency of labor is absolutely essential for sustained growth in output per worker and that changes in g are the only things that cause permanent changes in growth rates that cumulate indehnitely.\n",
    "\n",
    "Recall yet one more time the capital-output ratio form of the production function:\n",
    "\n",
    "(4.4.1)&nbsp;&nbsp;&nbsp;&nbsp;&nbsp;&nbsp;&nbsp;&nbsp;&nbsp;&nbsp;\n",
    "$ \\left(\\frac{Y}{L}\\right) =  \\left(\\frac{K}{Y}\\right)^{\\left(\\frac{\\alpha}{1-\\alpha}\\right)}(E)  $\n",
    "\n",
    "Consider what tells us. We know that a Solow growth model economy converges to a balanced-growth path. We know that the capital-output ratio K/Y is constant along the balanced-growth path. We know that the returns-to-investment parameter α is constant. And so the balanced-growth path level of output per worker Y/L grows only if and only as fast as the efficiency of labor E grows.\n",
    "\n",
    "Yet when we took a look at the math of an economy on its balanced growth path:\n",
    "\n",
    "(4.4.2)&nbsp;&nbsp;&nbsp;&nbsp;&nbsp;&nbsp;&nbsp;&nbsp;&nbsp;&nbsp;\n",
    "$ \\left(\\frac{Y}{L}\\right)^* =  \\left(\\frac{s}{n+g+\\delta}\\right)^{\\left(\\frac{\\alpha}{1-\\alpha}\\right)}(E)  $\n",
    "\n",
    "we seem to see that an increase in g raises the denominator of the first term on the right hand side—and so pushes the balanced-growth capital output ratio down and the balanced-growth path level of output per worker associated with any level of the efficiency of labor down as well.\n",
    "\n",
    "It is indeed the case that—just as in the case of an increased labor force growth rate n—an increased efficiency-of-labor growth rate g reduces the economy’s balanced-growth capital-output ratio s/(n + g - δ). Why? Because, analogously with an increase in the labor force, increases in the efficiency of labor allow each worker to do the work of more, but they need the machines and buildings to do them. The faster the rate of growth of the efficiency of la or, the larger the share of current investment that must go to keep up with the rising efficiency of old members of the labor force and supply them with the capital they need to be productive. Thus the lower will be the amount of investment that can be devoted to building up or maintaining the average ratio of capital to output.\n",
    "\n",
    "----\n",
    "\n",
    "&nbsp;"
   ]
  },
  {
   "cell_type": "markdown",
   "metadata": {},
   "source": [
    "### 4.4.3.2 The Algebra of Shifting the Efficiency-of-Labor Growth Rate\n",
    "\n",
    "The arithmetic and algebra are, for the beginning and the middle, the same as they were for an increase in the rate of labor force growth:\n",
    "\n",
    "Assume the economy has its Solow growth parameters, and its initial balanced-growth path capital-output ratio\n",
    "\n",
    "(4.4.4)&nbsp;&nbsp;&nbsp;&nbsp;&nbsp;&nbsp;&nbsp;&nbsp;&nbsp;&nbsp;\n",
    "$ {\\frac{K}{Y}^*}_{in} = \\frac{s}{n+g+\\delta}  $\n",
    "\n",
    "with \"in\" standing for \"initial\".\n",
    "\n",
    "And now let us consider an alternative scenario, with \"alt\" standing for \"alternative\", in which things had been different for a long time, with a higher efficiency-of-labor growth rate g+Δg since some time t=0 now far in the past:\n",
    "\n",
    "(4.4.5)&nbsp;&nbsp;&nbsp;&nbsp;&nbsp;&nbsp;&nbsp;&nbsp;&nbsp;&nbsp;\n",
    "$ {\\frac{K}{Y}^*}_{alt} = \\frac{s}{n+g+{\\Delta}g+\\delta}  $\n",
    "\n",
    "(4.4.6)&nbsp;&nbsp;&nbsp;&nbsp;&nbsp;&nbsp;&nbsp;&nbsp;&nbsp;&nbsp;\n",
    "$ {\\frac{K}{Y}^*}_{new} = \\left(\\frac{s}{n+g+\\delta}\\right)\\left(\\frac{n+g+\\delta}{(n+g+\\delta) + {\\Delta}g}\\right)  $\n",
    "\n",
    "But the first term on the right hand side is just the initial capital-output ratio:\n",
    "\n",
    "(4.4.7)&nbsp;&nbsp;&nbsp;&nbsp;&nbsp;&nbsp;&nbsp;&nbsp;&nbsp;&nbsp;\n",
    "$ {\\frac{K}{Y}^*}_{new} = \\left(\\frac{K}{Y}\\right)_{in} \\left(\\frac{1}{1 + \\frac{{\\Delta}g}{n+g+\\delta}}\\right)  $\n",
    "\n",
    "And we know that $ \\frac{1}{1+x}  $ is approximately $ 1-x  $ for small values of x, so we can make an approximation:\n",
    "\n",
    "(4.4.8)&nbsp;&nbsp;&nbsp;&nbsp;&nbsp;&nbsp;&nbsp;&nbsp;&nbsp;&nbsp;\n",
    "$ {\\frac{K}{Y}^*}_{new} ≈ {\\frac{K}{Y}^*}_{old} = - \\left({\\frac{K}{Y}^*}_{old}\\right)\\left(\\frac{{\\Delta}gn}{n+g+\\delta}\\right)  $\n",
    "\n",
    "Take the proportional change in the denominator of the expression for the balanced-growth capital output ratio. Multiply that proportional change by the initial balanced-growth capital-output ratio. That is the differential in the balanced-growth capital-output ratio that we are looking for. \n",
    "\n",
    "But how do we translate that into a differential for output per worker? In the case of an increase in the labor force growth rate, it was simply by amplifying or damping the change in the balanced-growth capital-output ratio by α/(1−α) in order to get the differential for output per worker. We could do that because the efficiency-of-labor at every time t $ E_t  $ was the same in both the initial and the alternative scenarios.\n",
    "\n",
    "That is not the case here.\n",
    "\n",
    "Here, the efficiency of labor was the same in the initial and alternative scenarios back at time 0, now long ago. Since then E has been growing at its rate $ g  $ in the initial scenario, and at its rate $ g + {\\Delta}g  $ in the alternative scenario, and so the time subscripts will be important, thus:\n",
    "\n",
    "(4.4.8)&nbsp;&nbsp;&nbsp;&nbsp;&nbsp;&nbsp;&nbsp;&nbsp;&nbsp;&nbsp;\n",
    "$ \\left(\\left(\\frac{Y_t}{L_t}\\right)^*\\right)_{in} = \\left(\\frac{s}{n+g+\\delta}\\right)^{\\alpha/(1-\\alpha)}{(1 + g)^t}E_0 $\n",
    "\n",
    "(4.4.9)&nbsp;&nbsp;&nbsp;&nbsp;&nbsp;&nbsp;&nbsp;&nbsp;&nbsp;&nbsp;\n",
    "$ \\left(\\left(\\frac{Y_t}{L_t}\\right)^*\\right)_{alt} =  \\left(\\frac{s}{(n+g+\\delta)+{\\Delta}g}\\right)^{\\alpha/(1-\\alpha)} {(1 + g + {\\Delta}g)^t}E_0 $\n",
    "\n",
    "Now divide (4.4.9) by (4.4.8) to get the ratio of output per worker under the alternative and initial scenarios:\n",
    "\n",
    "(4.4.10)&nbsp;&nbsp;&nbsp;&nbsp;&nbsp;&nbsp;&nbsp;&nbsp;&nbsp;&nbsp;\n",
    "$ \\left(\\frac{(Y_t/L_t)_{alt}}{(Y_t/L_t)_{in}}\\right)^* = \\left(\\frac{n+g+\\delta}{(n+g+\\delta)+{\\Delta}g}\\right)^{\\alpha/(1-\\alpha)} \\left(\\frac{(1+g+{\\Delta}g)^{t}E_0}{(1+g)^{t}E_0}\\right) $\n",
    "\n",
    "which, crossing our fingers and hoping that approximations are good enough, is almost:\n",
    "\n",
    "(4.4.11)&nbsp;&nbsp;&nbsp;&nbsp;&nbsp;&nbsp;&nbsp;&nbsp;&nbsp;&nbsp;\n",
    "$ \\left(\\frac{(Y_t/L_t)_{alt}}{(Y_t/L_t)_{in}}\\right)^* = \\left(\\frac{n+g+\\delta}{(n+g+\\delta)+{\\Delta}g}\\right)^{\\alpha/(1-\\alpha)} \\left(1+{\\Delta}g\\right)^{t} $\n",
    "\n",
    "Thus we see that in the long run, as the second term on the right hand side compounds as t grows, balanced-growth path output per worker under the alternative becomes first larger and then immensely larger than output per worker under the initial scenario. Yes, the balanced-growth path capital-output ratio is lower. But the efficiency of labor at any time t is higher, and then vastly higher if $ {\\Delta}gt  $ has had a chance to mount up and thus $ (1 + {\\Delta}g)^t  $ has had a chance to compound.\n",
    "\n",
    "Yes, a positive in the efficiency of labor growth g does reduce the economy’s balanced-growth path capital-output ratio. But these effects are overwhelmed by the more direct effect ofa larger g on output per worker. It is the economy with a high rate of efficiency of labor force growth g that becomes by far the richest over time. This is our most important conclusion. In the very longest run, the growth rate of the standard of living—of output per worker—can change if and only if the growth rate of labor efficiency changes. Other factors—a higher saving-investment rate, lower labor-force growth rate, or lower depreciation rate—can and down. But their effects are short and medium effects: They do not permanently change the growth rate of output per worker, because after the economy has converged to its balanced growth path the only determinant of the growth rate of output per worker is the growth rate of labor efficiency: both are equal to g.\n",
    "\n",
    "Thus, if we are to increase the rate of growth of the standard of living _permanently_, we must pursue policies that increase the rate at which labor efficiency grows—policies that enhance technological and organizational progress, improve worker skills, and add to worker education. \n",
    "\n",
    "----\n",
    "\n",
    "&nbsp;"
   ]
  },
  {
   "cell_type": "markdown",
   "metadata": {},
   "source": [
    "## 4.4.4 Shifts in the Saving Rate s\n",
    "\n",
    "### 4.4.4.1 The Most Common Policy and Environment Shock\n",
    "\n",
    "Shifts in labor force growth rates do happen: changes in immigration policy, the coming of cheap and easy contraception (or, earlier, widespread female literacy), or increased prosperity and expected prosperity that trigger \"baby booms\" can all have powerful and persistent effects on labor force growth down the pike. Shifts in the growth of labor efficiency growth happen as well: economic policy disasters and triumphs, countless forecasted \"new economies\" and \"secular stagnations\", and the huge economic shocks that were the first and second Industrial Revolutions—the latter inaugurating that global era of previously unimagined increasing prosperity we call modern economic growth—push an economy's labor efficiency growth rate g up or down and keep it there.\n",
    "\n",
    "Nevertheless, the most frequent sources of shifts in the parameters of the Solow growth model are shifts in the economy’s saving-investment rate. The rise of politicians eager to promise goodies—whether new spending programs or tax cuts — to voters induces large government budget deficits, which can be a persistent drag on an economy’s saving rate and its rate of capital accumulation. Foreigners become alternately overoptimistic and overpessimistic about the value of investing in our country, and so either foreign saving adds to or foreign capital flight reduces our own saving- investment rate. Changes in households’ fears of future economic disaster, in households’ access to credit, or in any of numerous other factors change the share of household income that is saved and invested. Changes in government tax policy may push after-tax returns up enough to call forth additional savings, or down enough to make savings seem next to pointless. Plus rational or irrational changes in optimism or pessimism—what John Maynard Keynes labelled the \"animal spirits\" of individual entrepreneurs, individual financiers, or bureaucratic committees in firms or banks or funds all can and do push an economy's savings-investment rate up and down.\n",
    "\n",
    "----\n",
    "\n",
    "&nbsp;"
   ]
  },
  {
   "cell_type": "markdown",
   "metadata": {},
   "source": [
    "### 4.4.4.2 Analyzing a Shift in the Saving Rate s\n",
    " \n",
    "What effects do changes in saving rates have on the balanced-growth path levels of Y/L?\n",
    "\n",
    "The higher the share of national product devoted to saving and gross investment—the higher is s—the higher will be the economy’s balanced-growth capital-output ratio s/(n + g + δ). Why? Because more investment increases the amount of new capital that can be devoted to building up the average ratio of cap  ital to output. Double the share of national product spent on gross investment, and you will find that you have doubled the economy’s capital intensity, or its average ratio of capital to output.\n",
    "\n",
    "As before, the equilibrium will be that point at which the economy’s savings effort and its investment requirements are in balance so that the capital stock and output grow at the same rate, and so the capital-output ratio is constant. The savings effort of society is simply sY, the amount of total output devoted to saving and investment. The investment requirements are the amount of new capital needed to replace depreciated and worn-out machines and buildings, plus the amount needed to equip new workers who increase the labor force, plus the amount needed to keep the stock of tools and machines at the disposal of more efficient workers increasing at the same rate as the efficiency of their labor. \n",
    "\n",
    "(4.4.12)&nbsp;&nbsp;&nbsp;&nbsp;&nbsp;&nbsp;&nbsp;&nbsp;&nbsp;&nbsp;\n",
    "$ sY = (n+g+\\delta)K $\n",
    "\n",
    "And so an increase in the savings rate s will, holding output Y constant, call forth a proportional increase in the capital stock at which savings effort and investment requirements are in balance: increase the saving-investment rate, and you double the balanced-growth path capital-output ratio:\n",
    "\n",
    "(4.4.4)&nbsp;&nbsp;&nbsp;&nbsp;&nbsp;&nbsp;&nbsp;&nbsp;&nbsp;&nbsp;\n",
    "$ {\\frac{K}{Y}^*}_{in} = \\frac{s}{n+g+\\delta}  $\n",
    "\n",
    "(4.4.13)&nbsp;&nbsp;&nbsp;&nbsp;&nbsp;&nbsp;&nbsp;&nbsp;&nbsp;&nbsp;\n",
    "$ {\\frac{K}{Y}^*}_{alt} = \\frac{s+{\\Delta}s}{n+g+\\delta}  $\n",
    "\n",
    "(4.4.14)&nbsp;&nbsp;&nbsp;&nbsp;&nbsp;&nbsp;&nbsp;&nbsp;&nbsp;&nbsp;\n",
    "$ {\\frac{K}{Y}^*}_{alt} - {\\frac{K}{Y}^*}_{in}  = \\frac{{\\Delta}s}{n+g+\\delta}  $\n",
    "\n",
    "with, once again, balanced growth path output per worker amplified or damped by the dependence of output per worker on the capital-output ratio:\n",
    "\n",
    "(4.4.2)&nbsp;&nbsp;&nbsp;&nbsp;&nbsp;&nbsp;&nbsp;&nbsp;&nbsp;&nbsp;\n",
    "$ \\left(\\frac{Y}{L}\\right)^* =  \\left(\\frac{s}{n+g+\\delta}\\right)^{\\left(\\frac{\\alpha}{1-\\alpha}\\right)}(E)  $\n",
    "\n",
    "----\n",
    "\n",
    "&nbsp;"
   ]
  },
  {
   "cell_type": "markdown",
   "metadata": {},
   "source": [
    "**Table 4.4.1: Effects of Increases In Parameters on the Solow Growth Model**\n",
    "\n",
    "<img style=\"display:block; margin-left:auto; margin-right:auto;\" src=\"http://delong.typepad.com/.a/6a00e551f08003883401bb09f10008970d-pi\" alt=\"Table\" title=\"Table.png\" border=\"0\" width=\"600\" height=\"209\" />\n",
    "\n",
    "----\n",
    "\n",
    "&nbsp;"
   ]
  },
  {
   "cell_type": "markdown",
   "metadata": {},
   "source": [
    "**Box 4.4.3: An Increase in the Saving-Investment Rate: An Example**\n",
    "\n",
    "To see how an increase in the economy’s saving rate s changes the balanced-growth path for output per worker, consider an economy in which the parameter a is 2/3, the rate of labor-force growth n is 1 percent per year, the rate of labor efficiency growth g is 1.5 percent per year, and the depreciation rate 8 is 3.5 percent per year. \n",
    "\n",
    "Suppose that the saving rate s, which was 18 percent, suddenly and permanently jumped to 24 percent of output.\n",
    "\n",
    "Before the increase in the saving rate, when s was 18 percent, the balanced- growth equilibrium capital-output ratio was:\n",
    "\n",
    "After the increase in the saving rate, the new balanced-growth equilibrium capital- output ratio will be:\n",
    "\n",
    "Before the increase in saving, the balanced-growth path for output per worker was:\n",
    "\n",
    "After the increase in saving, the balanced-growth path for output per worker will be:\n",
    "\n",
    "Divide the second equation by the first. We see that balanced-growth path output per worker after the jump in the saving rate is higher by a factor of 16/9, or fully 78 percent higher.\n",
    "\n",
    "Just after the increase in saving has taken place, the economy is still on its old, balanced-growth path. But as decades and generations pass the economy converges to its new balanced-growth path, where output per worker is not 9 but 16 times the efficiency of labor. The jump in capital intensity makes an enormous differ  ence for the economy’s relative prosperity.\n",
    "\n",
    "Note that this example has been constructed to make the effects of capital inten  sity on relative prosperity large: The high value for the diminishing-returns-to- investment parameter a means that differences in capital intensity have large and powerful effects on output-per-worker levels.\n",
    "\n",
    "But even here, the shift in saving and investment does not permanently raise the economy’s growth rate. After the economy has settled onto its new balanced-growth path, the growth rate of output per worker returns to the same 1.5 percent per year that is g, the growth rate of the efhciency of labor.\n",
    "\n",
    "----\n",
    "\n",
    "&nbsp;"
   ]
  },
  {
   "cell_type": "code",
   "execution_count": null,
   "metadata": {
    "collapsed": true
   },
   "outputs": [],
   "source": []
  },
  {
   "cell_type": "markdown",
   "metadata": {},
   "source": [
    "### 4.4.4.3 Saving and Investment: Prices and Quantities\n",
    "\n",
    "The same consequences as a low saving rate—a lower balanced-growth capital- output ratio — would follow from a country that makes the purchase of capital goods expensive. An abnormally high price of capital goods can translate a reasonably high saving effort into a remarkably low outcome in terms of actual gross additions to the real capital stock. The late economist Carlos Diaz-Alejandro placed the blame for much of Argentina’s poor growth performance since World War II on trade policies that restricted imports and artificially boosted the price of capital goods. Economist Charles Jones reached the same conclusion for India. And economists Peter Klenow and Chang-Tai Hsieh argued that the world structure of prices that makes capital goods relatively expensive in poor countries plays a major role in blocking development.\n",
    "\n",
    "----\n",
    "\n",
    "&nbsp;"
   ]
  },
  {
   "cell_type": "markdown",
   "metadata": {},
   "source": [
    "### 4.4.4.3 How Important This Is in the Real World\n",
    "\n",
    "How important is all this in the real world? Does a high rate of saving and investment play a role in making countries relatively rich not just in economists’ models but in reality? It turns out that it is important indeed. Of the 22 countries in the world with output-per-worker levels at least half of the U.S. level, 19 have investment that is more than 20 percent of output. The high capital-output ratios generated by high investment efforts are a very powerful source of relative prosperity in the world today.\n",
    "\n",
    "----\n",
    "\n",
    "&nbsp;"
   ]
  },
  {
   "cell_type": "markdown",
   "metadata": {},
   "source": [
    "**Figure 4.4.2: Savings-Investment Shares of Output and Relative Prosperity**\n",
    "\n",
    "The average country with an investment share of output of more than 25 percent has an output-per-worker level that is more than 70 percent of the U.S. level.\n",
    "\n",
    "The average country with an investment share of output of less than 15 percent has an output-per-worker level that is less than 15 percent of the U.S. level.\n",
    "\n",
    "This is not entirely due to a one-way relationship from a high investment effort to a high balanced-growth capital-output ratio: Countries are poor not just because they invest little; to some degree they invest little because they are poor. But much of the relationship is due to investment's effect on prosperity. High saving and investment rates are a very powerful cause of relative wealth in the world today.\n",
    "\n",
    "Where is the United States on this graph? For these data it has an investment rate of 21 percent of GDP and an output- per-worker level equal (not surprisingly) to 100 percent of the U.S. level.\n",
    "\n",
    "<img style=\"display:block; margin-left:auto; margin-right:auto;\" src=\"http://delong.typepad.com/.a/6a00e551f08003883401b8d2d7fa2b970c-pi\" alt=\"Investment Share and Output per Worker\" title=\"Investment_Share_and_Output_per_Worker.png\" border=\"0\" width=\"674\" height=\"592\" />\n",
    "\n",
    "##### Source: Authors' calculations from the Penn World Table data constructed by Alan Heston, Robert Summers, and Bettina Aten, www.nber.org.\n",
    "\n",
    "----\n",
    "\n",
    "&nbsp;"
   ]
  },
  {
   "cell_type": "markdown",
   "metadata": {},
   "source": [
    "## 4.4.5 RECAP: Using the Solow Growth Model\n",
    "\n",
    "**Changes in the economic environment and in economic policy have powerful effects on the economy’s long-run economic growth path. In the Solow model we analyze the effects of such changes by looking at their effects on cap  ital intensity and on the efficiency of labor. Unless the production function has very little in the way of diminishing returns—unless the parameter α is high—shifts in the growth rate of the efficiency of labor have the most powerful effects on the long-rund estiny in the economy: They change the long-run growth rate of the economy. Shifts in other parameters affect the economy’s capital intensity; affect what multiple of the efficiency of labor the balanced-growth path of output per worker follows, and make the economy richer or poorer as it con  verges to a new, different balanced-growth path. But only a change in the growth rate of labor efficiency can produce a permanent change in the growth rate of output per worker.**\n",
    "\n",
    "----\n",
    "\n",
    "&nbsp;\n",
    "\n",
    "#### Glossary\n",
    "\n",
    "----\n",
    "\n",
    "&nbsp;\n",
    "\n",
    "## 4.4.6 EXERCISES: Using the Solow Growth Model\n",
    "\n",
    "**Task 1: The Effects of a Jump in the Savings Rate**:\n",
    "\n",
    "Do calculations and assign the appropriate values to the variables in the code cells below:"
   ]
  },
  {
   "cell_type": "code",
   "execution_count": null,
   "metadata": {
    "collapsed": true
   },
   "outputs": [],
   "source": [
    "# when α = 0.15, the proportional jump in BGP K/Y\n",
    "# that takes place when the savings rate doubles\n",
    "# as a number: doubling is 2, tripling is 3:\n",
    "\n",
    "KY_when_s_doubles_pointfifteen = ___\n",
    "\n",
    "# when α = 0.30, the proportional jump in BGP K/Y\n",
    "# that takes place when the savings rate doubles:\n",
    "\n",
    "KY_when_s_doubles_pointthirty = ___\n",
    "\n",
    "# when α = 0.45, the proportional jump in BGP K/Y\n",
    "# that takes place when the savings rate doubles:\n",
    "\n",
    "KY_when_s_doubles_pointfortyfive = ___\n",
    "\n",
    "# when α = 0.60, the proportional jump in BGP K/Y\n",
    "# that takes place when the savings rate doubles:\n",
    "\n",
    "KY_when_s_doubles_pointsixty = ___\n",
    "\n",
    "# when α = 0.75, the proportional jump in BGP K/Y\n",
    "# that takes place when the savings rate doubles:\n",
    "\n",
    "KY_when_s_doubles_pointseventyfive = ___\n",
    "\n",
    "# when α = 0.90, the proportional jump in BGP K/Y\n",
    "# that takes place when the savings rate doubles:\n",
    "\n",
    "KY_when_s_doubles_pointninety = ___"
   ]
  },
  {
   "cell_type": "markdown",
   "metadata": {},
   "source": [
    "----\n",
    "\n",
    "&nbsp;"
   ]
  },
  {
   "cell_type": "markdown",
   "metadata": {},
   "source": [
    "**Task 2: The Effects of a Jump in the Savings Rate**:\n",
    "\n",
    "Do calculations and assign the appropriate values to the variables in the code cells below:"
   ]
  },
  {
   "cell_type": "code",
   "execution_count": null,
   "metadata": {
    "collapsed": true
   },
   "outputs": [],
   "source": [
    "# when α = 0.15, the proportional jump in BGP Y/L\n",
    "# that takes place when the savings rate doubles\n",
    "# (as a number: a 50% increase in BGP Y/L is a 1.5):\n",
    "\n",
    "Y_when_s_doubles_pointfifteen = ___\n",
    "\n",
    "# when α = 0.30, the proportional jump in BGP Y/L\n",
    "# that takes place when the savings rate doubles:\n",
    "\n",
    "Y_when_s_doubles_pointthirty = ___\n",
    "\n",
    "# when α = 0.45, the proportional jump in BGP Y/L\n",
    "# that takes place when the savings rate doubles:\n",
    "\n",
    "Y_when_s_doubles_pointfortyfive = ___\n",
    "\n",
    "# when α = 0.60, the proportional jump in BGP Y/L\n",
    "# that takes place when the savings rate doubles:\n",
    "\n",
    "Y_when_s_doubles_pointsixty = ___\n",
    "\n",
    "# when α = 0.75, the proportional jump in BGP Y/L\n",
    "# that takes place when the savings rate doubles:\n",
    "\n",
    "Y_when_s_doubles_pointseventyfive = ___\n",
    "\n",
    "# when α = 0.90, the proportional jump in BGP Y/L\n",
    "# that takes place when the savings rate doubles:\n",
    "\n",
    "Y_when_s_doubles_pointninety = ___"
   ]
  },
  {
   "cell_type": "markdown",
   "metadata": {},
   "source": [
    "----\n",
    "\n",
    "&nbsp;"
   ]
  },
  {
   "cell_type": "markdown",
   "metadata": {},
   "source": [
    "## 4.5 END OF CHAPTER: The Theory of Economic Growth\n",
    "\n",
    "**Chapter Summary**:\n",
    "\n",
    "1. One principal force driving long-run growth in output per worker is the set of improvements in the efficiency of labor springing from technological progress and ad  vances in organization.\n",
    "2. A second principal force driving long-run growth in output per worker is the increases in capital intensity, the ratio of the capital stock to output.\n",
    "3. The balanced-growth equilibrium in the Solow growth model occurs when the capital output ratio K/Y is con  stant. When K/Y is constant, the capital stock and real output are growing at the same rate.\n",
    "4. The Cobb-Douglas production function we use is\n",
    "This function is equivalent to\n",
    "An increase in the returns-to-investment parameter a makes the production function steeper. An increase in la  bor efficiency E makes the production function shift up.\n",
    "5. In equilibrium, investment equals saving: I = S = SH 4- SG + SF We assume S/Y, the saving-investment rate s, is constant.\n",
    "6. The balanced-growth equilibrium value of the capital output ratio K/Y is a constant equal to the saving rate s divided by the sum of the labor-force growth rate n, the labor efficiency growth rate g, and the depreciation rate 8: in balanced-growth equilibrium, K /Y = s/(n + g + 8).\n",
    "7. If the economy’s actual value of K/Y is initially greater than s/(n + g + 5), then K/Y will fall until it reaches its equilibrium value. If the economy’s actual value of K/Y is initially less than s/(n + g 4- 5), then K/Y will rise until it reaches its equilibrium value. It can take decades or generations for K/Y to reach its balanced-growth equilibrium value.\n",
    "8. An increase in the saving rate s, a decrease in the labor- force growth rate n, or a decrease in the depreciation rate 8 increases output per worker Y/L. The growth rate of Y/L will accelerate as the economy moves to its new higher balanced-growth path. But once the economy is on its new balanced-growth path, output per worker will grow at the same rate as it did initially.\n",
    "9. In balanced-growth equilibrium, the growth rate of out  put per worker equals the growth rate of labor efficiency g. So only an increase in the rate at which labor efficiency grows can produce a lasting increase in the rate of growth of output per worker.\n",
    "\n",
    "----\n",
    "\n",
    "&nbsp;\n",
    "\n",
    "**Key Terms**:\n",
    "\n",
    "economic growth (p. 82) \n",
    "labor force (p. 83)\n",
    "capital stock (p. 83) efficiency of labor (p. 84) capital intensity (p. 85)\n",
    "balanced-growth path (p. 86) production function (p. 87) output per worker (p. 87) saving rate (p. 91) depreciation (p. 92)\n",
    "capital-output ratio (p. 92)\n",
    "balanced growth (p. 98)\n",
    "balanced-growth equilibrium capital- output ratio (p. 98)\n",
    "convergence (p. 105)\n",
    "\n",
    "----\n",
    "\n",
    "&nbsp;\n",
    "\n",
    "**Analytical Exercises**:\n",
    "\n",
    "Consider an economy in which the depreciation rate is 3 percent per year, the rate of population increase is 1 percent per year, the rate of technological progress is 1 percent per year, and the sum of household and for  eign saving rates is 16 percent of GDP. Suppose that the government increases its budget deficit, which had been\n",
    "at 1 percent of GDP for a long time, to 3.5 percent of GDP and keeps it there indefinitely.\n",
    "a. What will be the effect of this shift in policy on the\n",
    "economy’s equilibrium capital-output ratio?\n",
    "b. What will be the effect of this shift in policy on the economy’s equilibrium balanced-growth path for output per worker? How does your answer depend on the value of the diminishing-retums-to-investment parameter a ?\n",
    "c. Suppose that your forecast of output per worker 20 years in the future had been $100,000. What is your new forecast of output per worker 20 years hence?\n",
    "2. Suppose that a country has the production function Y = K03(LE)03\n",
    "a. Express output Y as a function of the level of the effi  ciency of labor E, the size of the labor force L, and the capital-output ratio K/Y\n",
    "b. What is the expression for output per worker Y/L?\n",
    "3. Suppose that with the production function\n",
    "Y = K°3 (LE)03\n",
    "the depreciation rate on capital is 3 percent per year, the rate of population growth is 1 percent per year, and the rate of growth of the efficiency of labor is 1 percent per year.\n",
    "a. Suppose that the saving rate is 10 percent of GDP.\n",
    "What is the equilibrium capital-output ratio? What is the value of output per worker on the balanced- growth path written as a function of the level of the efficiency of labor?\n",
    "b. Suppose that the saving rate is 15 percent of GDP. What is the equilibrium capital-output ratio? What is the value of output per worker on the balanced- growth path?\n",
    "c. Suppose that the saving rate is 20 percent of GDP. What is the equilibrium capital-output ratio? What is the value of output per worker on the balanced- growth path?\n",
    "4. What happens to the equilibrium capital-output ratio if the rate of technological progress increases? Would the balanced-growth path of output per worker for the economy shift upward, shift downward, or remain in the same position?\n",
    "5. Discuss the following proposition: “An increase in the saving rate will increase the equilibrium capital-output ra  tio and so increase both output per worker and the rate of economic growth in both the short run and the long run.”\n",
    "Policy €xercises\n",
    "1. In the mid-1990s during the Clinton presidency the United States eliminated its federal budget deficit. The national saving rate was thus boosted by 4 percent of GDP, from 16 percent to 20 percent of real GDP. In the mid-1990s, the nation’s rate of labor-force growth was 1 percent per year, the depreciation rate was 3 percent\n",
    "6 . Would the balanced-growth path of output per worker for the economy shift upward, shift downward, or remain the same if capital were to become more durable — if the rate of depreciation on capital were to fall?\n",
    "7. Suppose that a sudden disaster — an epidemic, say — reduces a country’s population and labor force but does not affect its capital stock. Suppose further that the economy was on its equilibrium balanced-growth path before the epidemic.\n",
    "a. What is the immediate effect of the epidemic on out  put per worker? On the total economywide level of output?\n",
    "b. What happens subsequently?\n",
    "8. According to the marginal productivity theory of distri  bution, in a competitive economy the real rate of return on a dollar’s worth of capital — its profits or interest — is equal to capital’s marginal productivity. With the pro  duction function\n",
    "what is the marginal product of capital? That is, how much is total output (Y, not Y/L) boosted by the addi  tion of an extra unit to the capital stock?\n",
    "9. According to the marginal productivity theory of distri  bution, in a competitive economy the real rate of return on a dollar’s worth of capital — its profits or interest — is equal to capital’s marginal productivity. If this theory holds and the marginal productivity of capital is indeed\n",
    "dY Y —=a— dK K\n",
    "how large are the total earnings received by capital? What share of total output will be received by the own  ers of capital as their income?\n",
    "10. Suppose that environmental regulations lead to a slow  down in the rate of growth of the efficiency of labor in the production function but also lead to better environ  mental quality. Should we think of this as a “slowdown” in economic growth or not?\n",
    "\n",
    "----\n",
    "\n",
    "&nbsp;\n",
    "\n",
    "**Policy Exercises**:\n",
    "\n",
    "In the mid-1990s during the Clinton presidency the United States eliminated its federal budget deficit. The national saving rate was thus boosted by 4 percent of GDP, from 16 percent to 20 percent of real GDP. In the mid-1990s, the nation’s rate of labor-force growth was 1 percent per year, the depreciation rate was 3 percent per year, the rate of increase of the efficiency of labor was 1 percent per year, and the diminishing-returns- to-investment parameter a was 1/3. Then when George W. Bush took office, the fiscal reforms of the Clinton ad  ministration were reversed, leading to deficits of 4 per  cent of GDP once again.\n",
    "\n",
    "Suppose that the federal budget deficit remains at 4 percent indefinitely. What will the U.S. economy’s equilibrium capital-output ratio be? If the efficiency of labor in 2000 was $30,000 per year, what would be your forecast of output per worker in 2040?\n",
    "b. Suppose that George W. Bush had not taken office, and that Clinton’s successor, A1 Gore, and his succes  sors had continued to run a balanced budget. What would be your calculation of the U.S. economy’s balanced-growth equilibrium capital-output ratio? If the efficiency of labor in 2000 was $30,000 per year, what would be your forecast of output per worker in 2040?\n",
    "2. How would your answers to question 1 change if your estimate of the diminishing-returns-to-investment pa  rameter a was not 1/3 but 1/2 and if your estimate of the efficiency of labor in 2000 was not $30,000 but $15,000 a year?\n",
    "3. How would your answers to question 1 change if your estimate of the diminishing-returns-to-investment pa  rameter a was not 1/3 but 2/3?\n",
    "4. What are the long-run costs as far as economic growth is concerned of a policy of taking money that could re  duce the national debt — and thus add to national saving — and distributing it as tax cuts instead? W hat are the long-run benefits of such a policy? How can we decide whether such a policy is a good thing or not?\n",
    "5. At the end of the 1990s it appeared that because of the computer revolution the rate of growth of the efficiency of labor in the United States had doubled, from 1 per  cent per year to 2 percent per year. Suppose this increase is permanent. And suppose the rate of labor-force growth remains constant at 1 percent per year, the depre  ciation rate remains constant at 3 percent per year, and the American saving rate (plus foreign capital invested in America) remains constant at 20 percent per year. As  sume that the efficiency of labor in the United States in 2000 was $15,000 per year and that the diminishing- retums-to-investment parameter a was 1/3.\n",
    "a. What is the change in the balanced-growth equilib  rium capital-output ratio? What is the new capital- output ratio?\n",
    "b. Would such a permanent acceleration in the rate of growth of the efficiency of labor change your forecast of the level of output per worker in 2040?\n",
    "6. How would your answers to question 5 change if your estimate of the diminishing-returns-to-investment pa  rameter a was not 1/3 but 1/2 and if your estimate of the efficiency of labor in 2000 was not $30,000 but $15,000 a year?\n",
    "7.\n",
    "8.\n",
    "How would your answers to question 5 change if your estimate of the diminishing-returns-to-investment pa  rameter a was not 1/3 but 2/3?\n",
    "Output per worker in Mexico in the year 2000 was about $10,000 per year. Labor-force growth was 2.5 per  cent per year. The depreciation rate was 3 percent per year, the rate of growth of the efficiency of labor was 2.5 percent per year, and the saving rate was 16 percent of GDP. The diminishing-returns-to-investment param  eter a is 0.5.\n",
    "a. What is Mexico’s equilibrium capital-output ratio?\n",
    "b. Suppose that Mexico today is on its balanced-growth path. What is the current level of the efficiency of\n",
    "labor E?\n",
    "c. What is your forecast of output per worker in Mexico\n",
    "in 2040?\n",
    "Policy Exercises 117\n",
    "9. In the framework of question 8, how much does your forecast of output per worker in Mexico in 2040 in  crease if:\n",
    "a. Mexico’s domestic saving rate remains unchanged\n",
    "10.\n",
    "but the nation is able to finance extra investment equal to 4 percent of GDP every year by borrowing from abroad?\n",
    "b. The labor-force growth rate immediately falls to 1 per  cent per year?\n",
    "c. Both a and b happen?\n",
    "Consider an economy with a labor-force growth rate of 2 percent per year, a depreciation rate of 4 percent per year, a rate of growth of the efficiency of labor of 2 per  cent per year, and a saving rate of 16 percent of GDP. If the saving rate increases from 16 to 17 percent, what is the proportional increase in the equilibrium level of out  put per worker if the diminishing-retums-to-investment parameter a is 1/3? 1/2? 2/3? 3/4?\n",
    "\n"
   ]
  },
  {
   "cell_type": "markdown",
   "metadata": {},
   "source": [
    "The requirement:\n",
    "\n",
    "(4) &nbsp; &nbsp; &nbsp; &nbsp; &nbsp; &nbsp; &nbsp; &nbsp;\n",
    "$\\frac{K_{t}}{Y_{t}} =\\frac{s}{n+g+\\delta}$\n",
    "\n",
    "What is that equilibrium value of output per worker? We can move back and forth between the capital-per-worker form of the production function that we have already seen:\n",
    "\n",
    "(1) &nbsp; &nbsp; &nbsp; &nbsp; &nbsp; &nbsp; &nbsp; &nbsp;\n",
    "$\\frac{Y _{t}}{L _{t}} = \\left(\\frac{K _{t}}{L _{t}}\\right)^{\\alpha} \\left(L_{t}\\right) \\left(E_{t}\\right)^{1 - \\alpha}$\n",
    "\n",
    "to the capital form that we have already seen obtained by multiplying all the terms in (1) by the labor force:\n",
    "\n",
    "(2) &nbsp; &nbsp; &nbsp; &nbsp; &nbsp; &nbsp; &nbsp; &nbsp;\n",
    "$Y _{t} = {\\left({K _{t}}\\right)^{\\alpha}}{\\left(L_{t}E_{t}\\right)^{1-\\alpha}}$\n",
    "\n",
    "and to a still different (but more convenient) form: the capital-output ratio form of the production function:\n",
    "\n",
    "(5) &nbsp; &nbsp; &nbsp; &nbsp; &nbsp; &nbsp; &nbsp; &nbsp;\n",
    "$\\frac{Y _{t}}{L _{t}} = \\left(\\frac{K _{t}}{Y _{t}}\\right)^{\\frac{\\alpha}{(1-\\alpha)}} \\left(E_{t}\\right)  $\n",
    "\n",
    "All forms of the production function contain the same information. But for our purposes the capital-output ratio form is more convenient to work with, so work with it we shall.\n",
    "\n",
    "What, then, is the equilibrium value of output per worker? We know the value of the diminishing-returns-to-investment parameter a. We know the value of the efficiency of labor E. And we know that in equilibrium K/Y will be equal to s/(n + g + &delta;). So just substitute s/(n + g + &delta;) in for K/Y where it appears, and calculate:\n",
    "\n",
    "(6)  &nbsp; &nbsp; &nbsp; &nbsp; &nbsp; &nbsp; &nbsp; &nbsp;\n",
    "$\\frac{Y _{t}}{L _{t}} = \\left(\\frac{s}{(n + g + \\delta)}\\right)^{\\frac{\\alpha}{(1-\\alpha)}} \\left(E_{t}\\right)  $\n",
    "\n",
    "----\n",
    "\n",
    "&nbsp;"
   ]
  },
  {
   "cell_type": "code",
   "execution_count": null,
   "metadata": {
    "collapsed": true
   },
   "outputs": [],
   "source": [
    "sgm_200yr_run(L0 = 1000, E0 = 1, K0 = 1000, g = 0.02, n = 0.01,\n",
    "    s = 0.15)"
   ]
  },
  {
   "cell_type": "markdown",
   "metadata": {},
   "source": [
    "&nbsp;\n",
    "\n",
    "----"
   ]
  },
  {
   "cell_type": "markdown",
   "metadata": {},
   "source": [
    "#### GLOSSARY:\n",
    "\n",
    "**Balanced-growth path**: The path toward which total output per worker tends to converge, as the capital-output ratio converges to its equilibrium value.\n",
    "\n",
    "**Capital intensity**: The ratio of the capital stock to total potential output, K/Y, which describes the extent to which capital, as opposed to labor, is used to produce goods and services.\n",
    "\n",
    "**Efficiency of labor**: The skills and education of the labor force, the ability of the labor force to handle modern technologies, and the efficiency with which the economy's businesses and markets function.\n",
    "\n",
    "**Long-run economic growth**: The process by which productivity, living standards, and output increase.\n",
    "\n",
    "**Saving rate**: The share of total GDP that an economy saves, s, equal to the sum of household, government, and foreign saving divided by total output.\n",
    "\n",
    "----\n",
    "\n",
    "&nbsp;"
   ]
  },
  {
   "cell_type": "markdown",
   "metadata": {},
   "source": [
    "## 4.4.6 EXERCISES: Using the Solow Growth Model\n",
    "\n",
    "**Task 1: The Effects of a Jump in the Savings Rate**:\n",
    "\n",
    "Do calculations and assign the appropriate values to the variables in the code cell below:"
   ]
  },
  {
   "cell_type": "code",
   "execution_count": null,
   "metadata": {
    "collapsed": true
   },
   "outputs": [],
   "source": [
    "# when α = 0.15, the proportional jump in BGP K/Y\n",
    "# that takes place when the savings rate doubles\n",
    "# as a number: doubling is 2, tripling is 3:\n",
    "\n",
    "KY_when_s_doubles_pointfifteen = ___\n",
    "\n",
    "# when α = 0.30, the proportional jump in BGP K/Y\n",
    "# that takes place when the savings rate doubles:\n",
    "\n",
    "KY_when_s_doubles_pointthirty = ___\n",
    "\n",
    "# when α = 0.45, the proportional jump in BGP K/Y\n",
    "# that takes place when the savings rate doubles:\n",
    "\n",
    "KY_when_s_doubles_pointfortyfive = ___\n",
    "\n",
    "# when α = 0.60, the proportional jump in BGP K/Y\n",
    "# that takes place when the savings rate doubles:\n",
    "\n",
    "KY_when_s_doubles_pointsixty = ___\n",
    "\n",
    "# when α = 0.75, the proportional jump in BGP K/Y\n",
    "# that takes place when the savings rate doubles:\n",
    "\n",
    "KY_when_s_doubles_pointseventyfive = ___\n",
    "\n",
    "# when α = 0.90, the proportional jump in BGP K/Y\n",
    "# that takes place when the savings rate doubles:\n",
    "\n",
    "KY_when_s_doubles_pointninety = ___"
   ]
  },
  {
   "cell_type": "markdown",
   "metadata": {},
   "source": [
    "**Task 2: The Effects of a Jump in the Savings Rate**:\n",
    "\n",
    "Do calculations and assign the appropriate values to the variables in the code cells below:"
   ]
  },
  {
   "cell_type": "code",
   "execution_count": null,
   "metadata": {
    "collapsed": true
   },
   "outputs": [],
   "source": [
    "# when α = 0.15, the proportional jump in BGP Y/L\n",
    "# that takes place when the savings rate doubles\n",
    "# (as a number: a 50% increase in BGP Y/L is a 1.5):\n",
    "\n",
    "Y_when_s_doubles_pointfifteen = ___\n",
    "\n",
    "# when α = 0.30, the proportional jump in BGP Y/L\n",
    "# that takes place when the savings rate doubles:\n",
    "\n",
    "Y_when_s_doubles_pointthirty = ___\n",
    "\n",
    "# when α = 0.45, the proportional jump in BGP Y/L\n",
    "# that takes place when the savings rate doubles:\n",
    "\n",
    "Y_when_s_doubles_pointfortyfive = ___\n",
    "\n",
    "# when α = 0.60, the proportional jump in BGP Y/L\n",
    "# that takes place when the savings rate doubles:\n",
    "\n",
    "Y_when_s_doubles_pointsixty = ___\n",
    "\n",
    "# when α = 0.75, the proportional jump in BGP Y/L\n",
    "# that takes place when the savings rate doubles:\n",
    "\n",
    "Y_when_s_doubles_pointseventyfive = ___\n",
    "\n",
    "# when α = 0.90, the proportional jump in BGP Y/L\n",
    "# that takes place when the savings rate doubles:\n",
    "\n",
    "Y_when_s_doubles_pointninety = ___"
   ]
  }
 ],
 "metadata": {
  "kernelspec": {
   "display_name": "Python 3",
   "language": "python",
   "name": "python3"
  },
  "language_info": {
   "codemirror_mode": {
    "name": "ipython",
    "version": 3
   },
   "file_extension": ".py",
   "mimetype": "text/x-python",
   "name": "python",
   "nbconvert_exporter": "python",
   "pygments_lexer": "ipython3",
   "version": "3.6.1"
  }
 },
 "nbformat": 4,
 "nbformat_minor": 2
}
