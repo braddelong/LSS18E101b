{
 "cells": [
  {
   "cell_type": "markdown",
   "metadata": {
    "slideshow": {
     "slide_type": "notes"
    }
   },
   "source": [
    "## 2017-12-13 DeLong and Olney Macroeconomics 3rd Edition ch 1 sn 1.3"
   ]
  },
  {
   "cell_type": "markdown",
   "metadata": {},
   "source": [
    "## Setting up the environment"
   ]
  },
  {
   "cell_type": "code",
   "execution_count": 1,
   "metadata": {},
   "outputs": [
    {
     "data": {
      "application/javascript": [
       "\n",
       "IPython.OutputArea.prototype._should_scroll = function(lines) {\n",
       "    return false;}"
      ],
      "text/plain": [
       "<IPython.core.display.Javascript object>"
      ]
     },
     "metadata": {},
     "output_type": "display_data"
    }
   ],
   "source": [
    "%%javascript\n",
    "\n",
    "IPython.OutputArea.prototype._should_scroll = function(lines) {\n",
    "    return false;}"
   ]
  },
  {
   "cell_type": "code",
   "execution_count": 2,
   "metadata": {
    "collapsed": true
   },
   "outputs": [],
   "source": [
    "# keep output cells from shifting to autoscroll..."
   ]
  },
  {
   "cell_type": "code",
   "execution_count": 3,
   "metadata": {},
   "outputs": [
    {
     "name": "stderr",
     "output_type": "stream",
     "text": [
      "/Users/delong/anaconda3/lib/python3.6/site-packages/statsmodels/compat/pandas.py:56: FutureWarning:\n",
      "\n",
      "The pandas.core.datetools module is deprecated and will be removed in a future version. Please use the pandas.tseries module instead.\n",
      "\n"
     ]
    },
    {
     "name": "stdout",
     "output_type": "stream",
     "text": [
      "LIBRARY VERSIONS\n",
      " \n",
      "Python version:\n",
      "3.6.1 |Anaconda custom (x86_64)| (default, May 11 2017, 13:04:09) \n",
      "[GCC 4.2.1 Compatible Apple LLVM 6.0 (clang-600.0.57)]\n",
      "\n",
      "matplotlib version: 2.0.2\n",
      "pandas version: 0.20.1\n",
      "numpy version: 1.12.1\n",
      "statsmodels version: 0.8.0\n",
      "PIL version: 4.1.1\n",
      "scipy version: 0.19.0\n"
     ]
    }
   ],
   "source": [
    "# set up the environment by reading in libraries: \n",
    "# os... graphics... data manipulation... time... math... statistics...\n",
    "\n",
    "import sys\n",
    "import os\n",
    "from urllib.request import urlretrieve\n",
    "\n",
    "import matplotlib as mpl\n",
    "import matplotlib.pyplot as plt\n",
    "%matplotlib inline\n",
    "import PIL as pil\n",
    "import plotly\n",
    "plotly.tools.set_credentials_file(username='delong', api_key='d6vMMwVn4sEBmR2MLN9H')\n",
    "import plotly.plotly as py\n",
    "import plotly.graph_objs as go\n",
    "from plotly.graph_objs import Scatter\n",
    "from IPython.display import Image\n",
    "\n",
    "import pandas as pd\n",
    "from pandas import DataFrame, Series\n",
    "import pandas_datareader\n",
    "from datetime import datetime\n",
    "\n",
    "import scipy as sp\n",
    "import numpy as np\n",
    "import math\n",
    "import random\n",
    "\n",
    "import seaborn as sns\n",
    "import statsmodels\n",
    "import statsmodels.api as sm\n",
    "import statsmodels.formula.api as smf\n",
    "\n",
    "# report library versions...\n",
    "\n",
    "print(\"LIBRARY VERSIONS\")\n",
    "print(\" \")\n",
    "print(\"Python version:\\n{}\\n\".format(sys.version))\n",
    "print(\"matplotlib version: {}\".format(mpl.__version__))\n",
    "print(\"pandas version: {}\".format(pd.__version__))\n",
    "print(\"numpy version: {}\".format(np.__version__))\n",
    "print(\"statsmodels version: {}\".format(statsmodels.__version__))\n",
    "print(\"PIL version: {}\".format(pil.__version__))\n",
    "print(\"scipy version: {}\".format(sp.__version__))"
   ]
  },
  {
   "cell_type": "code",
   "execution_count": 4,
   "metadata": {
    "collapsed": true
   },
   "outputs": [],
   "source": [
    "%matplotlib inline "
   ]
  },
  {
   "cell_type": "code",
   "execution_count": 5,
   "metadata": {
    "collapsed": true
   },
   "outputs": [],
   "source": [
    "# graphics setup: seaborn-whitegrid and figure size...\n",
    "\n",
    "plt.style.use('seaborn-whitegrid')\n",
    "\n",
    "figure_size = plt.rcParams[\"figure.figsize\"]\n",
    "figure_size[0] = 12\n",
    "figure_size[1] = 10\n",
    "plt.rcParams[\"figure.figsize\"] = figure_size"
   ]
  },
  {
   "cell_type": "code",
   "execution_count": 6,
   "metadata": {
    "collapsed": true
   },
   "outputs": [],
   "source": [
    "# import delong functions\n",
    "\n",
    "from delong_functions.data_functions import getdata_read_or_download # get or download data file\n",
    "from delong_functions.stat_functions import initialize_basic_figure # initialize graphics\n",
    "\n",
    "# check to see if functions successfully created... \n",
    "# NOW COMMENTED OUT: getdata_read_or_download? initialize_basic_figure?"
   ]
  },
  {
   "cell_type": "markdown",
   "metadata": {},
   "source": [
    "## 1.3 The Current Macroeconomic Situation (REV—REVISE THIS VERY LAST!)"
   ]
  },
  {
   "cell_type": "markdown",
   "metadata": {},
   "source": [
    "### 1.3.1 The United States\n",
    "\n",
    "As of the end of 2004, the U.S. macroeconomy was enjoying a moderately strong but uneven recovery. The collapse of the dot-com stock market bubble in 2000 and the September 11, 2001, terrorist destruction of the World Trade Center and attack on the Pentagon triggered a decline in economic activity — a recession — as businesses that were more pessimistic about the prospect of future profits and scared of the uncertainty produced by terrorism cut back their investment spend  ing, and production and employment fell. Between the beginning of the reces  sion and the end of 2001, the U.S. economy lost 0.9 million jobs. In response to these adverse shocks, the Federal Reserve reduced interest rates far and fast to try to encourage businesses to invest more: The three-month money-market nom  inal interest rate that had been 6.74 percent per year in the summer of 2000 had been cut to 1.75 percent per year by the late fall of 2001 and to 1 percent by the middle of 2003. And the Bush tax cuts directed more money into the hands of con  sumers, who increased their spending, which reduced the magnitude of the reces  sion’s spending shortfall.\n",
    "Thus slowly in 2002 and more rapidly in 2003, the economy began to recover. Demand and production began to grow again. However, demand and production growth in 2003 and 2004 was, in everyone’s estimation, insufficient. Because of rapid underlying productivity growth in the American economy, the renewed economic expansion did little to expand employment. With a relatively disappointing job market, wages did not rise by much. The recovery of 2003 and 2004 did enormous amounts to boost productivity and profits, substantial amounts to boost produc  tion, but little to boost employment or wages.\n",
    "By the end of 2004 there were renewed worries among economists. One set of worries was that the United States could not afford the large tax cuts of the Bush administration — that they would produce very large budget deficits that would retard economic growth in the future. The Bush tax cuts, in combination with the extra defense spending authorized after September 11, eliminated the government budget surplus that had been painfully created during the 1990s. Given our low\n",
    " private saving rate, the elimination of public saving was likely in the medium run to reduce investment, and thus to slow growth. And the tax cuts were not designed in a way that would produce many significant supply-side production benefits. The principal long-run impact of the tax cuts would be a further reduction in America’s already low national saving rate and a slowing of economic growth.\n",
    "Moreover, by the end of 2004 there were worries that a forthcoming sharp decline in the value of the dollar would provide a further adverse and contrac  tionary shock to the United States and to the world economy. Should foreign exchange speculators lose confidence in the dollar, the value of foreign currency could rise far and fast, possibly causing macroeconomic problems. Economists are very good at pointing out economic situations that are inconsistent with funda  mental values — policies, imbalances, or balance sheet problems that cannot possi  bly last and are bound to end, perhaps in a crisis. But they are bad at forecasting when and how such imbalances will end.\n",
    "The recession of 2001 had been preceded by a remarkable decade-long economic boom. Policy makers and economists advocating the Clinton administration’s eco  nomic programs — deficit reduction and the lowering of trade barriers — had done so in the interest of accelerating long-run growth. Reduced trade barriers would allow for closer international integration, a finer international division of labor, and increased productivity. Deficit reduction would make possible high-investment eco  nomic expansion, which would then become high-productivity growth expansion.\n",
    "Until 1996 there were few signs that high investment was leading to high pro  ductivity growth, but then the pace of economic growth exploded. Perhaps the polit  ical claims in the early 1990s that deficit reduction would ignite a high-investment and high-productivity growth recovery were coming true. Perhaps the U.S. econ  omy was simply benefiting from the sudden wave of rapid productivity growth driven by the technological revolutions in data processing and data communications. The most likely possibility was and is that both were true. This was confirmed by the continuation of rapid growth in American labor productivity through the recession of 2001 and into the recovery that followed. The “new economy” of the 1990s that optimists had seen as the result of technological revolutions in information technol  ogy was indeed a reality, and the principal beneficiaries were consumers who found themselves able to buy at low prices and businesses that found that computerization greatly increased productivity.\n"
   ]
  },
  {
   "cell_type": "markdown",
   "metadata": {},
   "source": [
    "### 1.3.2 Europe\n",
    "\n",
    "In the early 2000s 11 western European countries adopted the euro as their com  mon currency. The adoption of the euro was followed not by strong growth, but by stagnation and recession. European unemployment rates mounted toward 10 per  cent between 2000 and 2004, and real GDP growth for the euro zone was rarely above 2 percent per year. There was certainly room for economic expansion in Europe: Consumer prices were rising at less than 2 percent per year. The challenge for European economic policy remains one of avoiding rises in inflation while attempting to reduce western Europe’s distressingly high and stubborn rate of unemployment, yet interpreting the European Central Bank’s actions as part of any policy intended to try to meet that challenge remains difficult.\n",
    "However, for the first time in decades Europeans were hopeful that the next decade would bring a reduction, not an increase, in unemployment. Changes in policy are making the European labor market more flexible and in the long run should make it easier for firms to change the number of workers they employ, which should make it easier for workers to find jobs and thus lower unemploy  ment. Most of western Europe is perhaps half a decade behind the United States in its adoption of data processing and data communications technology Thus there is good reason to hope that the information-technology-driven productivity growth acceleration experienced by the United States in the late 1990s should be visible in western Europe in the late 2000s.\n",
    "And in eastern Europe, economies continue to grow, as the long and slow process of “transition” away from communism has continued."
   ]
  },
  {
   "cell_type": "markdown",
   "metadata": {},
   "source": [
    "### 1.3.3 Japan\n",
    "\n",
    "As of the end of 2004, Japanese interest rates remained astonishingly low — 0.03 per  cent per year in the three-month money market — and were expected to remain low for the foreseeable future. Japan was still undergoing deflation, with consumer prices expected to fall by 1.0 percent in the next year.\n",
    "Fortunately, Japan was no longer in recession: The country had experienced six straight quarters of positive growth in real GDP. Although unemployment in Japan remained above 5 percent — an astonishingly high level for Japan — it was no longer increasing. There was good reason to believe that Japan’s decade-long expe  rience with stagnation and recession was over, and that Japanese economic growth had resumed.\n",
    "The start of the 1990s saw the collapse of the Japanese stock and real estate markets, the end of the so-called bubble economy. The 1990s as a whole saw the breakdown of the Japanese model of economic growth, as the economy stagnated for much of the decade. Now there is a general recognition that Japan faces a structural economic crisis. But there is no political consensus as to what is to be done, and the major political steps that need to be taken to restore growth — restructuring the Japanese financial system and deregulating transportation and distribution — have been long delayed.\n",
    "The Bank of Japan is now pursuing a policy of making short-term safe nominal interest rates as close to zero as it can. But what matters for investment spending is not a low short-term safe nominal interest rate but a low long-term risky real interest rate, and that will remain high as long as bond traders fear that (1) the low-interest rate policy may be temporary, (2) many companies may go bankrupt and never repay the money they borrow, and (3) prices may decline more rapidly, turning low nominal interest rates into high inflation-adjusted real interest rates. For most of the 1990s and into the early 2000s, even interest rates near zero proved insufficient to boost investment."
   ]
  },
  {
   "cell_type": "markdown",
   "metadata": {},
   "source": [
    "### 1.3.4 China (NEW)\n",
    "\n",
    "The big economic news is the enormous growth boom in China, which makes up more than one fifth of the human race. The Chinese economy was expected to grow at 8 percent and 6 percent in 2005. The pace of investment in China is blistering as its exports continue to expand: China consumes more than a quarter of the world’s steel and cement. China’s boom is driven by its manufacturing exports. \n",
    "\n",
    "In the case of China, the boom is further driven by an undervalued exchange rate. The Chinese government would rather sell its workers’ products cheaply than watch the value of its currency rise and risk high unemployment in its major cities. The Bank of China (along with other Asian central banks) buys up huge amounts of dollar-denominated assets every month in order to keep the value of the U.S. dollar from falling and the value of the Chinese yuan from rising. The U.S. gov  ernment does not strongly object: Purchases by the Bank of China keep U.S. inter  est rates from rising and allow the funding of the U.S. government budget deficit and of much U.S. private investment that could not be covered by America’s own small national saving."
   ]
  },
  {
   "cell_type": "markdown",
   "metadata": {},
   "source": [
    "### 1.3.5 Emerging Markets (REV)\n",
    "\n",
    "Elsewhere in the world, the big economic news is the substantial growth boom in India. Together with China, its population makes up 40 percent of the human race, Its economy was expected to grow at 6 percent in 2005. India’s boom is driven by investment for the internal market and by growing exports of business and other services to the world’s industrial core. \n",
    "\n",
    "As of the end of 2004, the financial crisis in East Asia of the past decade was only a distant memory. The panic that started in 1997 on the part of investors in New York, Frankfurt, London, and Tokyo, and the consequent withdrawal of their money from emerging market economies, imposed very high costs: mas  sive bankruptcies, high interest rates, increases in unemployment, falls in pro  duction. But foreign investors appear to have regained confidence in East Asian economies.\n",
    "However, the destabilizing factors in the world economy that made for the East Asian crisis of 1997-1998 are still present, as can be seen by the crash of the Argentinean economy at the end of 2001. Many argued that a critical cause of the East Asian crisis and, before it, the Mexican financial crisis was that the govern  ments retained the ability to devalue and depreciate the currency and that that was a key source of the capital flight that rippled through their economies and set off the crises. Argentina, however, handed authority over its exchange rate to an independent organization — a “currency board.” Yet that did not help. When in 2001 investors in New York, Frankfurt, London, Tokyo, and elsewhere became worried that the Argentine government’s failure to balance its budget heralded a future of more rapid money printing and inflation, the same factors came into play. And the fact of Argentina’s currency board only meant that the crisis became more convoluted and difficult to resolve — it was still not resolved three years after its beginning.\n",
    "\n",
    "Elsewhere in Latin America as of 2005 growth continued to be positive, but disappointing. The Mexican government continued to wrestle with the problem of fixing its still-insolvent banking system. Brazil struggled under the burden of its large national debt and attempted to fulfill the hopes of growth with equity raised by the election of left-of-center president Luis Ignacio da Silva.\n",
    "The most disappointing areas of the world as far as economic growth was con  cerned continued to be the Middle East and Africa."
   ]
  },
  {
   "cell_type": "markdown",
   "metadata": {},
   "source": [
    "### 1.3.6 The Current Macroeconomic Situation: Recap\n",
    "\n",
    "**Key Points**:"
   ]
  },
  {
   "cell_type": "markdown",
   "metadata": {},
   "source": [
    "### 1.3.6 The Current Macroeconomic Situation: Exercises\n",
    "\n",
    "**Analytical Exercises**:\n",
    "\n",
    "\n",
    "----\n",
    "\n",
    "**Policy Exercises**:"
   ]
  }
 ],
 "metadata": {
  "kernelspec": {
   "display_name": "Python 3",
   "language": "python",
   "name": "python3"
  },
  "language_info": {
   "codemirror_mode": {
    "name": "ipython",
    "version": 3
   },
   "file_extension": ".py",
   "mimetype": "text/x-python",
   "name": "python",
   "nbconvert_exporter": "python",
   "pygments_lexer": "ipython3",
   "version": "3.6.1"
  }
 },
 "nbformat": 4,
 "nbformat_minor": 2
}
